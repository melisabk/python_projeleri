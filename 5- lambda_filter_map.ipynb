{
 "cells": [
  {
   "cell_type": "markdown",
   "metadata": {},
   "source": [
    "isimsiz fonksiyonlardır.\n",
    "* lambda \n",
    "* filter\n",
    "* map"
   ]
  },
  {
   "cell_type": "markdown",
   "metadata": {},
   "source": [
    "**lambda arguments: expression**\n",
    "\n",
    "Syntax olarak sadece bir ifade (expression) ve birden fazla parametre (arguments) olabilir."
   ]
  },
  {
   "cell_type": "code",
   "execution_count": 1,
   "metadata": {},
   "outputs": [
    {
     "name": "stdout",
     "output_type": "stream",
     "text": [
      "30\n"
     ]
    }
   ],
   "source": [
    "double = lambda x: x * 2 #x-> arguments x*2--> expression(ifade)\n",
    "\n",
    "print(double(15))"
   ]
  },
  {
   "cell_type": "code",
   "execution_count": 2,
   "metadata": {},
   "outputs": [
    {
     "name": "stdout",
     "output_type": "stream",
     "text": [
      "30\n"
     ]
    }
   ],
   "source": [
    "def double(x):\n",
    "    return x*2\n",
    "\n",
    "print(double(15))"
   ]
  },
  {
   "cell_type": "code",
   "execution_count": 3,
   "metadata": {},
   "outputs": [
    {
     "name": "stdout",
     "output_type": "stream",
     "text": [
      "4\n",
      "30\n"
     ]
    }
   ],
   "source": [
    "#default değer verme\n",
    "\n",
    "double =lambda x = 2: x * 2\n",
    "\n",
    "print(double())\n",
    "print(double(15))"
   ]
  },
  {
   "cell_type": "code",
   "execution_count": 6,
   "metadata": {},
   "outputs": [
    {
     "name": "stdout",
     "output_type": "stream",
     "text": [
      "7\n"
     ]
    }
   ],
   "source": [
    "Min = lambda x,y : x if x < y else y \n",
    "\n",
    "print(Min(9,7))"
   ]
  },
  {
   "cell_type": "code",
   "execution_count": 7,
   "metadata": {},
   "outputs": [
    {
     "name": "stdout",
     "output_type": "stream",
     "text": [
      "[[1, 2, 3, 6, 8], [1, 2, 4, 6, 9], [0, 1, 3, 5, 7]]\n"
     ]
    }
   ],
   "source": [
    "#iç listeleri küçükten büyüğe kendi içinde sıralayın.\n",
    "my_list = [[2, 6, 8, 3, 1], [2, 6, 4, 1, 9], [0, 7, 3, 5, 1]]\n",
    "\n",
    "sortedList = lambda use_list : (sorted(i) for i in use_list)\n",
    "\n",
    "print(list(sortedList(my_list)))"
   ]
  },
  {
   "cell_type": "code",
   "execution_count": 8,
   "metadata": {},
   "outputs": [
    {
     "name": "stdout",
     "output_type": "stream",
     "text": [
      "[[1, 2, 3, 6, 8], [1, 2, 4, 6, 9], [0, 1, 3, 5, 7]]\n"
     ]
    }
   ],
   "source": [
    "#yukarıdaki örneği düz fonksiyonla yazımı\n",
    "my_list = [[2, 6, 8, 3, 1], [2, 6, 4, 1, 9], [0, 7, 3, 5, 1]]\n",
    "\n",
    "def sortedList(liste):\n",
    "    for index, item in enumerate(my_list):\n",
    "        my_list[index] = sorted(item)\n",
    "\n",
    "    return my_list\n",
    "\n",
    "print(sortedList(my_list))"
   ]
  },
  {
   "cell_type": "code",
   "execution_count": 9,
   "metadata": {},
   "outputs": [
    {
     "name": "stdout",
     "output_type": "stream",
     "text": [
      "[10, 70, 90, 40, 30]\n"
     ]
    }
   ],
   "source": [
    "multiplyList = lambda x: (i*10 for i in x)\n",
    "\n",
    "print(list(multiplyList([1, 7, 9, 4, 3])))"
   ]
  },
  {
   "cell_type": "markdown",
   "metadata": {},
   "source": [
    "**filter()** --> parametre olarak bir lambda yani isimsiz bir fonksiyon ve bir liste alır. Verilen ifadeye uygun elemanları işleme alır ve yeni bir liste döner.\n"
   ]
  },
  {
   "cell_type": "code",
   "execution_count": 10,
   "metadata": {},
   "outputs": [
    {
     "name": "stdout",
     "output_type": "stream",
     "text": [
      "[1, 43, 5, 7, 77]\n"
     ]
    }
   ],
   "source": [
    "#Liste içeriisndeki tek sayıları bulma\n",
    "my_list = [1, 2, 43, 5, 6, 7, 34, 0, 77]\n",
    "\n",
    "print(list(filter(lambda x: x % 2 != 0, my_list)))"
   ]
  },
  {
   "cell_type": "markdown",
   "metadata": {},
   "source": [
    "**map()** --> parametre olarak bir lamda yani isimisiz bir fonksiyon ve liste alır."
   ]
  },
  {
   "cell_type": "code",
   "execution_count": 11,
   "metadata": {},
   "outputs": [
    {
     "name": "stdout",
     "output_type": "stream",
     "text": [
      "[True, False, True, True, False, True, False, False, True]\n"
     ]
    }
   ],
   "source": [
    "my_list = [1, 2, 43, 5, 6, 7, 34, 0, 77]\n",
    "\n",
    "print(list(map(lambda x: x % 2 != 0, my_list)))"
   ]
  },
  {
   "cell_type": "code",
   "execution_count": 12,
   "metadata": {},
   "outputs": [
    {
     "name": "stdout",
     "output_type": "stream",
     "text": [
      "[1, 4, 16, 25, 36, 49, 9, 0, 49]\n"
     ]
    }
   ],
   "source": [
    "# map ile her elemanın karesini alan kod bloğunu yazalım.\n",
    "\n",
    "my_list = [1, 2, 4, 5, 6, 7, 3, 0, 7]\n",
    "\n",
    "print(list(map(lambda x: x**2, my_list)))\n",
    "\n"
   ]
  },
  {
   "cell_type": "code",
   "execution_count": 14,
   "metadata": {},
   "outputs": [
    {
     "name": "stdout",
     "output_type": "stream",
     "text": [
      "[6, 21, 27]\n"
     ]
    }
   ],
   "source": [
    "#map ile liste içerisindeki her listenin ilk elemanının 3 katını döndürelim.\n",
    "my_list = [[2, 6, 8, 3, 1], [7, 6, 4, 1, 9], [9, 7, 3, 5, 1]]\n",
    "\n",
    "print(list(map(lambda x: x[0]*3 , my_list)))"
   ]
  },
  {
   "cell_type": "code",
   "execution_count": 19,
   "metadata": {},
   "outputs": [
    {
     "name": "stdout",
     "output_type": "stream",
     "text": [
      "[2, 3, 5, 4]\n"
     ]
    }
   ],
   "source": [
    "# filter ile [20, 30, 15, 10, 13, 50, 40] listesi içerisinde >=20 olanları bulup \n",
    "# map ile yeni listedeki değerleri integer ile bölme ile 10a bölelim, oluşan listeyi ekrana basalım.\n",
    "\n",
    "\n",
    "# filter(lambda x: x>= 20 , [20, 30, 15, 10, 13, 50, 40]) ------- ilk aşamadaki 20den büyük olanları bulma, ayrıca liste tanımlayamaya ihtiyac duymadık.\n",
    "\n",
    "print(list(map(lambda y: y//10, filter(lambda x: x>= 20 , [20, 30, 15, 10, 13, 50, 40])))) "
   ]
  },
  {
   "cell_type": "code",
   "execution_count": 21,
   "metadata": {},
   "outputs": [
    {
     "name": "stdout",
     "output_type": "stream",
     "text": [
      "[34, 2]\n"
     ]
    }
   ],
   "source": [
    "#Listenin içerisinde yer alan integer tipindeki elemanları ekrana basalım.\n",
    "\n",
    "my_list = [\"beyza\", 34, 2, 89.6, True, 'a']\n",
    "\n",
    "print(list(filter(lambda x: type(x) == int, my_list)))"
   ]
  },
  {
   "cell_type": "code",
   "execution_count": 22,
   "metadata": {},
   "outputs": [
    {
     "name": "stdout",
     "output_type": "stream",
     "text": [
      "['EMRE', 'CEYDA', 'CEREN', 'İLKAY', ' BUKET', 'AYŞE', 'NURCAN']\n"
     ]
    }
   ],
   "source": [
    "# Liste içerisindeki isimleri büyük harfe çevirelim.\n",
    "\n",
    "my_list = [\"Emre\", \"Ceyda\", \"Ceren\",\"İlkay\",\" Buket\",\"Ayşe\", \"Nurcan\"]\n",
    "\n",
    "print(list(map(lambda x: x.upper() , my_list)))"
   ]
  }
 ],
 "metadata": {
  "kernelspec": {
   "display_name": "Python 3.10.5 64-bit",
   "language": "python",
   "name": "python3"
  },
  "language_info": {
   "codemirror_mode": {
    "name": "ipython",
    "version": 3
   },
   "file_extension": ".py",
   "mimetype": "text/x-python",
   "name": "python",
   "nbconvert_exporter": "python",
   "pygments_lexer": "ipython3",
   "version": "3.10.5"
  },
  "orig_nbformat": 4,
  "vscode": {
   "interpreter": {
    "hash": "62152218f5ae77fab72cd74f672204b070f3d26a6c6ea88577bcd7d0571ecb6a"
   }
  }
 },
 "nbformat": 4,
 "nbformat_minor": 2
}
