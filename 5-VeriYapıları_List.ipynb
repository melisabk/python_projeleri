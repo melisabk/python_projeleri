{
 "cells": [
  {
   "cell_type": "markdown",
   "metadata": {},
   "source": [
    "**Veri Yapıları**\n",
    "\n",
    "* List\n",
    "* Tuple\n",
    "* Set\n",
    "* Dictionary"
   ]
  },
  {
   "cell_type": "markdown",
   "metadata": {},
   "source": [
    "**Listeler**\n",
    "\n",
    "* index ile erişilebilir, ordered yani sıralıdır.\n",
    "* mutable (değiştirilebilir) yani liste içine eklenen bir veri değiştirilebilir.\n",
    "* [] tanımlanır. Liste elemanları da virgüller ile ayrılır.\n",
    "* Farklı tipte veri içerebilir.\n",
    "* Aynı değerlere sahip iki elemana sahip olabilir.\n"
   ]
  },
  {
   "cell_type": "code",
   "execution_count": 1,
   "metadata": {},
   "outputs": [],
   "source": [
    "list_int = [1, 6, 2, 4, -1, 1]\n",
    "list_string = [\"Aysel\" , \"Melisa\" , \"Sude\", \"Ayşe Nur\", \"Melisa\"]\n",
    "list_bool = [True, False]\n",
    "list_float = [1.2, 4.5, 13.6]\n",
    "\n",
    "list_mix = [\"Hatice\", 23, 1000, True, 13.4]"
   ]
  },
  {
   "cell_type": "markdown",
   "metadata": {},
   "source": [
    "Elemanlara index ile erişim"
   ]
  },
  {
   "cell_type": "code",
   "execution_count": 7,
   "metadata": {},
   "outputs": [
    {
     "name": "stdout",
     "output_type": "stream",
     "text": [
      "['Hatice', 23, 1000, True, 13.4]\n",
      "\n",
      "pozitif indexler ile erişim\n",
      "0. index değeri:  Hatice\n",
      "1. index değeri:  23\n",
      "2. index değeri:  1000\n",
      "\n",
      "negatif indexler ile erişim\n",
      "-1. index değeri:  13.4\n",
      "-2. index değeri:  True\n",
      "-3. index değeri:  1000\n"
     ]
    }
   ],
   "source": [
    "print(list_mix)\n",
    "print(\"\\npozitif indexler ile erişim\")\n",
    "print(\"0. index değeri: \", list_mix[0])\n",
    "print(\"1. index değeri: \", list_mix[1])\n",
    "print(\"2. index değeri: \", list_mix[2])\n",
    "\n",
    "print(\"\\nnegatif indexler ile erişim\")\n",
    "print(\"-1. index değeri: \", list_mix[-1])\n",
    "print(\"-2. index değeri: \", list_mix[-2])\n",
    "print(\"-3. index değeri: \", list_mix[-3])"
   ]
  },
  {
   "cell_type": "markdown",
   "metadata": {},
   "source": [
    "Listelerde Uzunluk"
   ]
  },
  {
   "cell_type": "code",
   "execution_count": 1,
   "metadata": {},
   "outputs": [
    {
     "ename": "NameError",
     "evalue": "name 'list_mix' is not defined",
     "output_type": "error",
     "traceback": [
      "\u001b[1;31m---------------------------------------------------------------------------\u001b[0m",
      "\u001b[1;31mNameError\u001b[0m                                 Traceback (most recent call last)",
      "Cell \u001b[1;32mIn [1], line 1\u001b[0m\n\u001b[1;32m----> 1\u001b[0m \u001b[39mprint\u001b[39m(list_mix)\n\u001b[0;32m      2\u001b[0m \u001b[39mprint\u001b[39m(\u001b[39m\"\u001b[39m\u001b[39mListemizin uzunluğu: \u001b[39m\u001b[39m\"\u001b[39m, \u001b[39mlen\u001b[39m(list_mix))\n",
      "\u001b[1;31mNameError\u001b[0m: name 'list_mix' is not defined"
     ]
    }
   ],
   "source": [
    "print(list_mix)\n",
    "print(\"Listemizin uzunluğu: \", len(list_mix))"
   ]
  },
  {
   "cell_type": "markdown",
   "metadata": {},
   "source": [
    "Slicing"
   ]
  },
  {
   "cell_type": "code",
   "execution_count": 1,
   "metadata": {},
   "outputs": [
    {
     "name": "stdout",
     "output_type": "stream",
     "text": [
      "['bilge', 26, 'AI&ML engineer', True, 15000.34, 'Menekşe', 'Merve', 'Şule']\n"
     ]
    }
   ],
   "source": [
    "my_list = [\"bilge\", 26, \"AI&ML engineer\", True, 15000.34, \"Menekşe\", \"Merve\", \"Şule\"]\n",
    "\n",
    "print(my_list)"
   ]
  },
  {
   "cell_type": "code",
   "execution_count": 2,
   "metadata": {},
   "outputs": [
    {
     "name": "stdout",
     "output_type": "stream",
     "text": [
      "['bilge', 26, 'AI&ML engineer', True]\n"
     ]
    }
   ],
   "source": [
    "#ilk dört elemanı ekrana basalım.\n",
    "\n",
    "print(my_list[0:4])"
   ]
  },
  {
   "cell_type": "code",
   "execution_count": 3,
   "metadata": {},
   "outputs": [
    {
     "name": "stdout",
     "output_type": "stream",
     "text": [
      "['bilge', 'AI&ML engineer', 15000.34, 'Merve']\n"
     ]
    }
   ],
   "source": [
    "#her iki elemanda bir atlayarak ekrana bas\n",
    "print(my_list[::2])"
   ]
  },
  {
   "cell_type": "code",
   "execution_count": 4,
   "metadata": {},
   "outputs": [
    {
     "name": "stdout",
     "output_type": "stream",
     "text": [
      "['AI&ML engineer', True, 15000.34]\n"
     ]
    }
   ],
   "source": [
    "# 2 ile 5 index aralığındaki elemanları basalım\n",
    "print(my_list[2:5])"
   ]
  },
  {
   "cell_type": "code",
   "execution_count": 5,
   "metadata": {},
   "outputs": [
    {
     "name": "stdout",
     "output_type": "stream",
     "text": [
      "['Şule', 'Merve', 'Menekşe', 15000.34, True, 'AI&ML engineer', 26, 'bilge']\n"
     ]
    }
   ],
   "source": [
    "#Listeyi tersten yazdıralım.\n",
    "\n",
    "print(my_list[: : -1])"
   ]
  },
  {
   "cell_type": "markdown",
   "metadata": {},
   "source": [
    "Döngüler ile liste elemanlarını ekrana yazdırma"
   ]
  },
  {
   "cell_type": "code",
   "execution_count": 3,
   "metadata": {},
   "outputs": [
    {
     "name": "stdout",
     "output_type": "stream",
     "text": [
      "Ayşenur\n",
      "26\n",
      "AI&ML engineer\n",
      "True\n",
      "15000.34\n",
      "Menekşe\n",
      "Merve\n",
      "Şule\n"
     ]
    }
   ],
   "source": [
    "my_list = [\"Ayşenur\", 26, \"AI&ML engineer\", True, 15000.34, \"Menekşe\", \"Merve\", \"Şule\"]\n",
    "\n",
    "for item in my_list:\n",
    "    print(item)"
   ]
  },
  {
   "cell_type": "markdown",
   "metadata": {},
   "source": [
    "Elemanları yan yana gösterelim"
   ]
  },
  {
   "cell_type": "code",
   "execution_count": 4,
   "metadata": {},
   "outputs": [
    {
     "name": "stdout",
     "output_type": "stream",
     "text": [
      "Ayşenur  -  26  -  AI&ML engineer  -  True  -  15000.34  -  Menekşe  -  Merve  -  Şule  -  "
     ]
    }
   ],
   "source": [
    "for item in my_list:\n",
    "    print(item, end = \"  -  \")"
   ]
  },
  {
   "cell_type": "markdown",
   "metadata": {},
   "source": [
    "Indexler üzerinden erişim"
   ]
  },
  {
   "cell_type": "code",
   "execution_count": 14,
   "metadata": {},
   "outputs": [
    {
     "name": "stdout",
     "output_type": "stream",
     "text": [
      "0. index değeri: Ayşenur\n",
      "1. index değeri: 26\n",
      "2. index değeri: AI&ML engineer\n",
      "3. index değeri: True\n",
      "4. index değeri: 15000.34\n",
      "5. index değeri: Menekşe\n",
      "6. index değeri: Merve\n",
      "7. index değeri: Şule\n"
     ]
    }
   ],
   "source": [
    "for i in range(0,len (my_list)):\n",
    "    print(f\"{i}. index değeri: {my_list[i]}\")"
   ]
  },
  {
   "cell_type": "markdown",
   "metadata": {},
   "source": [
    "Listelere eleman ekleme\n",
    "\n",
    "* append()\n",
    "* insert()\n",
    "* extend()"
   ]
  },
  {
   "cell_type": "markdown",
   "metadata": {},
   "source": [
    "**append()**\n",
    "Listenin sonuna ekler"
   ]
  },
  {
   "cell_type": "code",
   "execution_count": 15,
   "metadata": {},
   "outputs": [
    {
     "name": "stdout",
     "output_type": "stream",
     "text": [
      "['Ayşenur', 26, 'AI&ML engineer', True, 15000.34, 'Menekşe', 'Merve', 'Şule']\n",
      "['Ayşenur', 26, 'AI&ML engineer', True, 15000.34, 'Menekşe', 'Merve', 'Şule', 'Edanur']\n"
     ]
    }
   ],
   "source": [
    "my_list = [\"Ayşenur\", 26, \"AI&ML engineer\", True, 15000.34, \"Menekşe\", \"Merve\", \"Şule\"]\n",
    "print(my_list)\n",
    "\n",
    "my_list.append(\"Edanur\")\n",
    "print(my_list)"
   ]
  },
  {
   "cell_type": "markdown",
   "metadata": {},
   "source": [
    "**insert()**\n",
    "istenen indexte konumlandırma yapar"
   ]
  },
  {
   "cell_type": "code",
   "execution_count": 16,
   "metadata": {},
   "outputs": [
    {
     "name": "stdout",
     "output_type": "stream",
     "text": [
      "['Ayşenur', 26, 'AI&ML engineer', True, 15000.34, 'Menekşe', 'Merve', 'Şule', 'Edanur']\n",
      "['Betül', 'Ayşenur', 26, 'AI&ML engineer', True, 15000.34, 'Menekşe', 'Merve', 'Şule', 'Edanur']\n"
     ]
    }
   ],
   "source": [
    "print(my_list)\n",
    "\n",
    "my_list.insert(0, \"Betül\")\n",
    "print(my_list)"
   ]
  },
  {
   "cell_type": "markdown",
   "metadata": {},
   "source": [
    "**extend()**\n",
    "listenin sonuna ekleme yapar. Birden fazla eleman eklemeye izin verir."
   ]
  },
  {
   "cell_type": "code",
   "execution_count": 6,
   "metadata": {},
   "outputs": [
    {
     "name": "stdout",
     "output_type": "stream",
     "text": [
      "['Ayşenur', 26, 'AI&ML engineer', True, 15000.34, 'Menekşe', 'Merve', 'Şule']\n",
      "['Ayşenur', 26, 'AI&ML engineer', True, 15000.34, 'Menekşe', 'Merve', 'Şule', 1, 2, 3, 4, [5, 6, 7]]\n"
     ]
    }
   ],
   "source": [
    "my_list = [\"Ayşenur\", 26, \"AI&ML engineer\", True, 15000.34, \"Menekşe\", \"Merve\", \"Şule\"]\n",
    "print(my_list)\n",
    "\n",
    "my_list.extend([1,2,3,4, [5,6,7]])\n",
    "print(my_list)"
   ]
  },
  {
   "cell_type": "markdown",
   "metadata": {},
   "source": [
    "Liste elemanları üzerinde değişiklik"
   ]
  },
  {
   "cell_type": "code",
   "execution_count": 7,
   "metadata": {},
   "outputs": [
    {
     "name": "stdout",
     "output_type": "stream",
     "text": [
      "Önceki hali:  [1, 4, 6, 7, 8, 3]\n",
      "Sonraki hali:  [78, 4, 6, 7, 8, 3]\n"
     ]
    }
   ],
   "source": [
    "my_list = [1,4,6,7,8,3]\n",
    "\n",
    "print(\"Önceki hali: \" ,my_list)\n",
    "\n",
    "my_list[0] = 78\n",
    "print(\"Sonraki hali: \",my_list)"
   ]
  },
  {
   "cell_type": "code",
   "execution_count": 21,
   "metadata": {},
   "outputs": [
    {
     "name": "stdout",
     "output_type": "stream",
     "text": [
      "Önceki hali:  [78, 4, 6, 7, 8, 3]\n",
      "Sonraki hali:  [78, 12, 13, 14, 8, 3]\n"
     ]
    }
   ],
   "source": [
    "print(\"Önceki hali: \", my_list)\n",
    "\n",
    "my_list[1:4] = [12,13,14]\n",
    "print(\"Sonraki hali: \", my_list)"
   ]
  },
  {
   "cell_type": "code",
   "execution_count": 22,
   "metadata": {},
   "outputs": [
    {
     "name": "stdout",
     "output_type": "stream",
     "text": [
      "Önceki hali:  [1, 4, 6, 7, 8, 3]\n",
      "Sonraki hali:  [2, 5, 7, 8, 9, 4]\n"
     ]
    }
   ],
   "source": [
    "#listenin tüm elemanlarına 1 ekle\n",
    "my_list = [1,4,6,7,8,3]\n",
    "print(\"Önceki hali: \" ,my_list)\n",
    "\n",
    "for i in my_list:\n",
    "    print(my_list[i])\n",
    "\n",
    "for i in range (0, len(my_list)):\n",
    "    my_list[i] += 1\n",
    "\n",
    "print(\"Sonraki hali: \", my_list)\n"
   ]
  },
  {
   "cell_type": "markdown",
   "metadata": {},
   "source": [
    "Listeden eleman silme\n",
    "\n",
    "* remove()\n",
    "* pop()\n",
    "* clear()\n",
    "* del()"
   ]
  },
  {
   "cell_type": "code",
   "execution_count": null,
   "metadata": {},
   "outputs": [],
   "source": [
    "my_list = [0, 1, 2, 3, 1,4, 5, 6, 7, 8, 9, 1, 10, 11, 12, 13]"
   ]
  },
  {
   "cell_type": "markdown",
   "metadata": {},
   "source": [
    "**remove()**\n",
    "listeden ilk bulduğu elemanı siler."
   ]
  },
  {
   "cell_type": "code",
   "execution_count": 26,
   "metadata": {},
   "outputs": [
    {
     "name": "stdout",
     "output_type": "stream",
     "text": [
      "Önceki hali:  [0, 1, 2, 3, 1, 4, 5, 6, 7, 8, 9, 1, 10, 11, 12, 13]\n",
      "Sonraki hali:  [0, 2, 3, 1, 4, 5, 6, 7, 8, 9, 1, 10, 11, 12, 13]\n"
     ]
    }
   ],
   "source": [
    "print (\"Önceki hali: \", my_list)\n",
    "\n",
    "my_list.remove(1)\n",
    "print(\"Sonraki hali: \", my_list)"
   ]
  },
  {
   "cell_type": "markdown",
   "metadata": {},
   "source": [
    "Listede olmayan değeri silme"
   ]
  },
  {
   "cell_type": "code",
   "execution_count": 37,
   "metadata": {},
   "outputs": [
    {
     "name": "stdout",
     "output_type": "stream",
     "text": [
      "Önceki hali:  []\n"
     ]
    },
    {
     "ename": "ValueError",
     "evalue": "list.remove(x): x not in list",
     "output_type": "error",
     "traceback": [
      "\u001b[1;31m---------------------------------------------------------------------------\u001b[0m",
      "\u001b[1;31mValueError\u001b[0m                                Traceback (most recent call last)",
      "Cell \u001b[1;32mIn [37], line 2\u001b[0m\n\u001b[0;32m      1\u001b[0m \u001b[38;5;28mprint\u001b[39m (\u001b[38;5;124m\"\u001b[39m\u001b[38;5;124mÖnceki hali: \u001b[39m\u001b[38;5;124m\"\u001b[39m, my_list)\n\u001b[1;32m----> 2\u001b[0m my_list\u001b[38;5;241m.\u001b[39mremove(\u001b[38;5;241m100\u001b[39m)\n\u001b[0;32m      3\u001b[0m \u001b[38;5;28mprint\u001b[39m(\u001b[38;5;124m\"\u001b[39m\u001b[38;5;124mSonraki hali: \u001b[39m\u001b[38;5;124m\"\u001b[39m, my_list)\n",
      "\u001b[1;31mValueError\u001b[0m: list.remove(x): x not in list"
     ]
    }
   ],
   "source": [
    "print (\"Önceki hali: \", my_list)\n",
    "my_list.remove(100)\n",
    "print(\"Sonraki hali: \", my_list)"
   ]
  },
  {
   "cell_type": "markdown",
   "metadata": {},
   "source": [
    "**pop()**\n",
    "herhangi bir index verilmezse listenin son elemanı silinir. İndex verilirse de ilgili indexteki eleman silinir."
   ]
  },
  {
   "cell_type": "code",
   "execution_count": 27,
   "metadata": {},
   "outputs": [
    {
     "name": "stdout",
     "output_type": "stream",
     "text": [
      "Önceki hali:  ['zeynep', 'öykü', 'betül', 'irem', 'nihal', 'irem', 'öykü', 'öykü']\n",
      "ikinci hali:  ['zeynep', 'öykü', 'betül', 'irem', 'nihal', 'irem', 'öykü']\n",
      "sonraki hali:  ['zeynep', 'öykü', 'irem', 'nihal', 'irem', 'öykü']\n"
     ]
    }
   ],
   "source": [
    "my_list = [\"zeynep\", \"öykü\", \"betül\", \"irem\", \"nihal\", \"irem\", \"öykü\", \"öykü\"]\n",
    "print(\"Önceki hali: \",my_list)\n",
    "\n",
    "my_list.pop()\n",
    "print(\"ikinci hali: \",my_list)\n",
    "\n",
    "my_list.pop(2)\n",
    "print(\"sonraki hali: \", my_list)"
   ]
  },
  {
   "cell_type": "markdown",
   "metadata": {},
   "source": [
    "**del()**\n",
    "listeyi tamamen siler."
   ]
  },
  {
   "cell_type": "code",
   "execution_count": 29,
   "metadata": {},
   "outputs": [
    {
     "name": "stdout",
     "output_type": "stream",
     "text": [
      "['zeynep', 'öykü', 'betül', 'irem', 'nihal', 'irem', 'öykü', 'öykü']\n",
      "['zeynep', 'irem', 'nihal', 'irem', 'öykü', 'öykü']\n"
     ]
    },
    {
     "ename": "NameError",
     "evalue": "name 'my_list' is not defined",
     "output_type": "error",
     "traceback": [
      "\u001b[1;31m---------------------------------------------------------------------------\u001b[0m",
      "\u001b[1;31mNameError\u001b[0m                                 Traceback (most recent call last)",
      "Cell \u001b[1;32mIn [29], line 8\u001b[0m\n\u001b[0;32m      5\u001b[0m \u001b[38;5;28mprint\u001b[39m(my_list)\n\u001b[0;32m      7\u001b[0m \u001b[38;5;28;01mdel\u001b[39;00m my_list \u001b[38;5;66;03m#listeyi tamamen siler. Sİldiği için basacak liste bulamaz ve error verir.\u001b[39;00m\n\u001b[1;32m----> 8\u001b[0m \u001b[38;5;28mprint\u001b[39m(my_list)\n",
      "\u001b[1;31mNameError\u001b[0m: name 'my_list' is not defined"
     ]
    }
   ],
   "source": [
    "my_list = [\"zeynep\", \"öykü\", \"betül\", \"irem\", \"nihal\", \"irem\", \"öykü\", \"öykü\"]\n",
    "print(my_list)\n",
    "\n",
    "del my_list[1:3] #belirtilen aralıktaki değerleri siler.\n",
    "print(my_list)\n",
    "\n",
    "del my_list #listeyi tamamen siler. Sİldiği için basacak liste bulamaz ve error verir.\n",
    "print(my_list)"
   ]
  },
  {
   "cell_type": "markdown",
   "metadata": {},
   "source": [
    "**clear()**\n",
    "Liste içerisindeki elemanları siler.Çıktı boş olarak döner."
   ]
  },
  {
   "cell_type": "code",
   "execution_count": 30,
   "metadata": {},
   "outputs": [
    {
     "name": "stdout",
     "output_type": "stream",
     "text": [
      "['zeynep', 'öykü', 'betül', 'irem', 'nihal', 'irem', 'öykü', 'öykü']\n",
      "[]\n"
     ]
    }
   ],
   "source": [
    "my_list = [\"zeynep\", \"öykü\", \"betül\", \"irem\", \"nihal\", \"irem\", \"öykü\", \"öykü\"]\n",
    "print(my_list)\n",
    "\n",
    "my_list.clear()\n",
    "print(my_list)"
   ]
  },
  {
   "cell_type": "markdown",
   "metadata": {},
   "source": [
    "**index()** Bir Liste içerisinde eleman bulma"
   ]
  },
  {
   "cell_type": "code",
   "execution_count": 34,
   "metadata": {},
   "outputs": [
    {
     "name": "stdout",
     "output_type": "stream",
     "text": [
      "2\n"
     ]
    }
   ],
   "source": [
    "movies = [\"Friends\", \"The Office\", \"The Big Bang Theory\", \"Breaking Bad\", \"How I Meet Your Mother\", \"Heartland\" ]\n",
    "\n",
    "print(movies.index(\"The Big Bang Theory\"))"
   ]
  },
  {
   "cell_type": "code",
   "execution_count": 35,
   "metadata": {},
   "outputs": [
    {
     "ename": "ValueError",
     "evalue": "'Big Bang Theory' is not in list",
     "output_type": "error",
     "traceback": [
      "\u001b[1;31m---------------------------------------------------------------------------\u001b[0m",
      "\u001b[1;31mValueError\u001b[0m                                Traceback (most recent call last)",
      "Cell \u001b[1;32mIn [35], line 1\u001b[0m\n\u001b[1;32m----> 1\u001b[0m \u001b[38;5;28mprint\u001b[39m(movies\u001b[38;5;241m.\u001b[39mindex(\u001b[38;5;124m\"\u001b[39m\u001b[38;5;124mBig Bang Theory\u001b[39m\u001b[38;5;124m\"\u001b[39m))\n",
      "\u001b[1;31mValueError\u001b[0m: 'Big Bang Theory' is not in list"
     ]
    }
   ],
   "source": [
    "print(movies.index(\"Big Bang Theory\"))"
   ]
  },
  {
   "cell_type": "markdown",
   "metadata": {},
   "source": [
    "İki listeyi concat etme (birleştirme)\n",
    " \n",
    "* (+) operatörü ile\n",
    "*  extend() methodu ile"
   ]
  },
  {
   "cell_type": "code",
   "execution_count": 36,
   "metadata": {},
   "outputs": [
    {
     "name": "stdout",
     "output_type": "stream",
     "text": [
      "[1, 2, 3, 4, 5, 6]\n"
     ]
    }
   ],
   "source": [
    "my_list1 = [1, 2, 3]\n",
    "my_list2 = [4, 5, 6]\n",
    "\n",
    "my_list3 = my_list1 + my_list2\n",
    "\n",
    "print(my_list3)"
   ]
  },
  {
   "cell_type": "code",
   "execution_count": null,
   "metadata": {},
   "outputs": [],
   "source": [
    "my_list1 = [1, 2, 3]\n",
    "my_list1.sort()\n",
    "print(my_list1)\n",
    "\n",
    "#my_list2 = [4, 5, 6, 1]\n",
    "\n",
    "#my_list1.extend(my_list2)\n",
    "#print(my_list1)"
   ]
  },
  {
   "cell_type": "markdown",
   "metadata": {},
   "source": [
    "Bir Listenin Kopyalanması\n",
    "atama operatörü ile"
   ]
  },
  {
   "cell_type": "code",
   "execution_count": 39,
   "metadata": {},
   "outputs": [
    {
     "name": "stdout",
     "output_type": "stream",
     "text": [
      "[1, 2, 3, 4]\n"
     ]
    }
   ],
   "source": [
    "\n",
    "#burada yapılan değişiklikten 2 liste de etkilenir. ama copyde değişiklik hangi listeye yapılıyorsa yalnıza o etkilenir.\n",
    "my_list = [1, 2, 3]\n",
    "\n",
    "new_list = my_list\n",
    "\n",
    "my_list.append(4)\n",
    "print(new_list)"
   ]
  },
  {
   "cell_type": "markdown",
   "metadata": {},
   "source": [
    "*copy()*"
   ]
  },
  {
   "cell_type": "code",
   "execution_count": null,
   "metadata": {},
   "outputs": [],
   "source": [
    "my_list = [1, 2, 3]\n",
    "new_list = my_list.copy()\n",
    "\n",
    "my_list.append(4)\n",
    "print(new_list)"
   ]
  },
  {
   "cell_type": "markdown",
   "metadata": {},
   "source": []
  },
  {
   "cell_type": "code",
   "execution_count": null,
   "metadata": {},
   "outputs": [],
   "source": [
    "my_list = [1, 6, 3, 8, 0]\n",
    "print(\"Listenin ilk hali: \", my_list)\n",
    "\n",
    "my_list.sort()\n",
    "print(\"Listenin sıralanmış hali: \", my_list)\n",
    "\n",
    "my_list.reverse()\n",
    "print(\"Listenin tersten sıralanmış hali: \", my_list)\n",
    "\n",
    "print(\"Listenin max. elemanı: \", max(my_list))\n",
    "print(\"Listenin min. elemanı: \", min(my_list))\n",
    "print(\"Listenin elemanlarının toplamı: \", sum(my_list))\n",
    "\n"
   ]
  },
  {
   "cell_type": "markdown",
   "metadata": {},
   "source": [
    "İÇ İÇE LİSTELER"
   ]
  },
  {
   "cell_type": "code",
   "execution_count": 40,
   "metadata": {},
   "outputs": [
    {
     "name": "stdout",
     "output_type": "stream",
     "text": [
      "['Aysel Aydin', 2015, ['Software dev.', 'Android dev.', 'AI & ML Engineer'], 7, 3457]\n",
      "AI & ML Engineer\n"
     ]
    }
   ],
   "source": [
    "\n",
    "my_list = [\"Aysel Aydin\", 2015, [\"Software dev.\", \"Android dev.\", \"AI & ML Engineer\"], 7 ,3457]\n",
    "print(my_list)\n",
    "print(my_list[2][-1])\n"
   ]
  },
  {
   "cell_type": "code",
   "execution_count": 43,
   "metadata": {},
   "outputs": [
    {
     "name": "stdout",
     "output_type": "stream",
     "text": [
      "[4, 16, 36, 64, 100, 0]\n"
     ]
    }
   ],
   "source": [
    "#Bu listedeki çift sayıların karelerinden yeni bir liste oluşturalım.\n",
    "my_list = [1, 2, 3, 4, 5, 6, 7, 8, 9, 10,0]\n",
    "\n",
    "new_list = []\n",
    "for item in my_list:\n",
    "    if item % 2 == 0:\n",
    "        new_list.append(item**2)\n",
    "\n",
    "print(new_list)"
   ]
  },
  {
   "cell_type": "code",
   "execution_count": 45,
   "metadata": {},
   "outputs": [
    {
     "name": "stdout",
     "output_type": "stream",
     "text": [
      "['Aysel Aydin', 2015, ['Software dev.', 'Android dev.', 'AI & ML Engineer', 'Eğitmen'], 7, 3457]\n"
     ]
    }
   ],
   "source": [
    "#eğitmen title değerini 2.indexe ekleyelim\n",
    "\n",
    "my_list = [\"Aysel Aydin\", 2015, [\"Software dev.\", \"Android dev.\", \"AI & ML Engineer\"], 7 ,3457]\n",
    "\n",
    "my_list[2].append(\"Eğitmen\")\n",
    "print(my_list)"
   ]
  },
  {
   "cell_type": "code",
   "execution_count": 46,
   "metadata": {},
   "outputs": [
    {
     "name": "stdout",
     "output_type": "stream",
     "text": [
      "[10, 20, 30, 40, 50]\n"
     ]
    }
   ],
   "source": [
    "#duplicate verileri temizleyerek yeni bir liste oluşturalım\n",
    "my_list = [10, 10, 20, 30, 10, 20, 40, 50]\n",
    "uniqe_list = []\n",
    "\n",
    "for i in my_list:\n",
    "    if i not in uniqe_list:\n",
    "        uniqe_list.append(i)\n",
    "\n",
    "print(uniqe_list)\n"
   ]
  },
  {
   "cell_type": "code",
   "execution_count": 48,
   "metadata": {},
   "outputs": [
    {
     "name": "stdout",
     "output_type": "stream",
     "text": [
      "10\n"
     ]
    }
   ],
   "source": [
    "#liste içerisindeki en büyük elemanı bulma (max metodu kullanmadan)\n",
    "\n",
    "my_list = [1, 2, 3, 9, 4, 5, 6, 7, 8, 9, 10,0]\n",
    "\n",
    "temp = 0 #Karşılaştırma yapabilmek için böyle bir şey tanımladık ki liste ilerledikçe değişebilsin.\n",
    "for item in my_list:\n",
    "    if item > temp:\n",
    "        temp = item\n",
    "print(temp)\n"
   ]
  },
  {
   "cell_type": "code",
   "execution_count": null,
   "metadata": {},
   "outputs": [],
   "source": [
    "#text içerisinde yer alan kelimelerden uzunluğu dörtten büyük eşit olanları aynı bir listeye atalım.\n",
    "\n",
    "text = \"Sisterslab Women in Tech Python akademimiz tüm hızıyla devam etmektedir.\"\n",
    "\n",
    "\n"
   ]
  }
 ],
 "metadata": {
  "kernelspec": {
   "display_name": "Python 3.10.5 64-bit",
   "language": "python",
   "name": "python3"
  },
  "language_info": {
   "codemirror_mode": {
    "name": "ipython",
    "version": 3
   },
   "file_extension": ".py",
   "mimetype": "text/x-python",
   "name": "python",
   "nbconvert_exporter": "python",
   "pygments_lexer": "ipython3",
   "version": "3.10.5"
  },
  "orig_nbformat": 4,
  "vscode": {
   "interpreter": {
    "hash": "62152218f5ae77fab72cd74f672204b070f3d26a6c6ea88577bcd7d0571ecb6a"
   }
  }
 },
 "nbformat": 4,
 "nbformat_minor": 2
}
