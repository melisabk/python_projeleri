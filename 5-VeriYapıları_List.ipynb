{
 "cells": [
  {
   "cell_type": "markdown",
   "metadata": {},
   "source": [
    "**Veri Yapıları**\n",
    "\n",
    "* List\n",
    "* Tuple\n",
    "* Set\n",
    "* Dictionary"
   ]
  },
  {
   "cell_type": "markdown",
   "metadata": {},
   "source": [
    "**Listeler**\n",
    "\n",
    "* index ile erişilebilir, ordered yani sıralıdır.\n",
    "* mutable (değiştirilebilir) yani liste içine eklenen bir veri değiştirilebilir.\n",
    "* [] tanımlanır. Liste elemanları da virgüller ile ayrılır.\n",
    "* Farklı tipte veri içerebilir.\n",
    "* Aynı değerlere sahip iki elemana sahip olabilir.\n"
   ]
  },
  {
   "cell_type": "code",
   "execution_count": 1,
   "metadata": {},
   "outputs": [],
   "source": [
    "list_int = [1, 6, 2, 4, -1, 1]\n",
    "list_string = [\"Aysel\" , \"Melisa\" , \"Sude\", \"Ayşe Nur\", \"Melisa\"]\n",
    "list_bool = [True, False]\n",
    "list_float = [1.2, 4.5, 13.6]\n",
    "\n",
    "list_mix = [\"Hatice\", 23, 1000, True, 13.4]"
   ]
  },
  {
   "cell_type": "markdown",
   "metadata": {},
   "source": [
    "Elemanlara index ile erişim"
   ]
  },
  {
   "cell_type": "code",
   "execution_count": 7,
   "metadata": {},
   "outputs": [
    {
     "name": "stdout",
     "output_type": "stream",
     "text": [
      "['Hatice', 23, 1000, True, 13.4]\n",
      "\n",
      "pozitif indexler ile erişim\n",
      "0. index değeri:  Hatice\n",
      "1. index değeri:  23\n",
      "2. index değeri:  1000\n",
      "\n",
      "negatif indexler ile erişim\n",
      "-1. index değeri:  13.4\n",
      "-2. index değeri:  True\n",
      "-3. index değeri:  1000\n"
     ]
    }
   ],
   "source": [
    "print(list_mix)\n",
    "print(\"\\npozitif indexler ile erişim\")\n",
    "print(\"0. index değeri: \", list_mix[0])\n",
    "print(\"1. index değeri: \", list_mix[1])\n",
    "print(\"2. index değeri: \", list_mix[2])\n",
    "\n",
    "print(\"\\nnegatif indexler ile erişim\")\n",
    "print(\"-1. index değeri: \", list_mix[-1])\n",
    "print(\"-2. index değeri: \", list_mix[-2])\n",
    "print(\"-3. index değeri: \", list_mix[-3])"
   ]
  },
  {
   "cell_type": "markdown",
   "metadata": {},
   "source": [
    "Listelerde Uzunluk"
   ]
  },
  {
   "cell_type": "code",
   "execution_count": 9,
   "metadata": {},
   "outputs": [
    {
     "name": "stdout",
     "output_type": "stream",
     "text": [
      "['Hatice', 23, 1000, True, 13.4]\n",
      "Listemizin uzunluğu:  5\n"
     ]
    }
   ],
   "source": [
    "print(list_mix)\n",
    "print(\"Listemizin uzunluğu: \", len(list_mix))"
   ]
  }
 ],
 "metadata": {
  "kernelspec": {
   "display_name": "Python 3.10.5 64-bit",
   "language": "python",
   "name": "python3"
  },
  "language_info": {
   "codemirror_mode": {
    "name": "ipython",
    "version": 3
   },
   "file_extension": ".py",
   "mimetype": "text/x-python",
   "name": "python",
   "nbconvert_exporter": "python",
   "pygments_lexer": "ipython3",
   "version": "3.10.5"
  },
  "orig_nbformat": 4,
  "vscode": {
   "interpreter": {
    "hash": "62152218f5ae77fab72cd74f672204b070f3d26a6c6ea88577bcd7d0571ecb6a"
   }
  }
 },
 "nbformat": 4,
 "nbformat_minor": 2
}
