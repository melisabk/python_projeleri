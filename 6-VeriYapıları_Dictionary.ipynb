{
 "cells": [
  {
   "cell_type": "markdown",
   "metadata": {},
   "source": [
    "**Dictionary**\n",
    "\n",
    "* İndex ile erişilemezler. Unordered yani sıralı değildir.\n",
    "\n",
    "* key value mantığında tutulur. Değere key üzerinden erişiriz.\n",
    "\n",
    "* Dictionary değiştirilebilir yani mutable'dır. \n",
    "\n",
    "* {} içerisinde tanımlanır. Key-value çiftini virgüllerle ayrılır.\n",
    "\n",
    "* Farklı tipte veriler içerebilir.\n",
    "\n",
    "* key değerleri unique olacak ama taşıdıkları değerler duplicate olabilir."
   ]
  },
  {
   "cell_type": "markdown",
   "metadata": {},
   "source": [
    "**Dictionary oluşturma yöntemleri**\n",
    "* {} boş bir sözlük oluşturulur.\n",
    "* dict"
   ]
  },
  {
   "cell_type": "code",
   "execution_count": 1,
   "metadata": {},
   "outputs": [
    {
     "data": {
      "text/plain": [
       "{'name': 'Büşranur',\n",
       " 'company': 'Turkcell',\n",
       " 'age': 25,\n",
       " 'isFemale': True,\n",
       " 'salary': 10000.5}"
      ]
     },
     "execution_count": 1,
     "metadata": {},
     "output_type": "execute_result"
    }
   ],
   "source": [
    "my_dict = {\n",
    "    \"name\": \"Büşranur\",\n",
    "    \"company\" : \"Turkcell\",\n",
    "    \"age\" : 25,\n",
    "    \"isFemale\" : True,\n",
    "    \"salary\" : 10000.50\n",
    "}\n",
    "my_dict"
   ]
  },
  {
   "cell_type": "code",
   "execution_count": 3,
   "metadata": {},
   "outputs": [
    {
     "data": {
      "text/plain": [
       "{'name': 'Büşranur',\n",
       " 'company': 'Turkcell',\n",
       " 'title': ['AT & ML Engineer', 'Data scientist', 'Backend developer'],\n",
       " 'age': 25,\n",
       " 'isFemale': True,\n",
       " 'salary': 10000.5}"
      ]
     },
     "execution_count": 3,
     "metadata": {},
     "output_type": "execute_result"
    }
   ],
   "source": [
    "#içine liste ekleme\n",
    "my_dict = {\n",
    "    \"name\": \"Büşranur\",\n",
    "    \"company\" : \"Turkcell\",\n",
    "    \"title\" : [\"AT & ML Engineer\", \"Data scientist\", \"Backend developer\"],\n",
    "    \"age\" : 25,\n",
    "    \"isFemale\" : True,\n",
    "    \"salary\" : 10000.50\n",
    "}\n",
    "my_dict"
   ]
  },
  {
   "cell_type": "code",
   "execution_count": 4,
   "metadata": {},
   "outputs": [
    {
     "data": {
      "text/plain": [
       "{'first name': 'Menekşe', 'last_name': 'Avcı'}"
      ]
     },
     "execution_count": 4,
     "metadata": {},
     "output_type": "execute_result"
    }
   ],
   "source": [
    "my_dict = dict({\"first name\" : \"Menekşe\", \"last_name\" : \"Avcı\"})\n",
    "my_dict"
   ]
  },
  {
   "cell_type": "code",
   "execution_count": 6,
   "metadata": {},
   "outputs": [
    {
     "data": {
      "text/plain": [
       "dict"
      ]
     },
     "execution_count": 6,
     "metadata": {},
     "output_type": "execute_result"
    }
   ],
   "source": [
    "type(my_dict)"
   ]
  },
  {
   "cell_type": "markdown",
   "metadata": {},
   "source": [
    "**sözlük elemanlarına erişim**\n",
    "\n",
    "* [] içinde key değerini vererek\n",
    "* get() içinde key değeri vererek"
   ]
  },
  {
   "cell_type": "code",
   "execution_count": 7,
   "metadata": {},
   "outputs": [
    {
     "data": {
      "text/plain": [
       "{'blue': 'mavi',\n",
       " 'red': 'kırmızı',\n",
       " 'yellow': 'sarı',\n",
       " 'pink': 'pembe',\n",
       " 'green': 'yeşil'}"
      ]
     },
     "execution_count": 7,
     "metadata": {},
     "output_type": "execute_result"
    }
   ],
   "source": [
    "colors = {\n",
    "    \"blue\" : \"mavi\",\n",
    "    \"red\" :\"kırmızı\",\n",
    "    \"yellow\" : \"sarı\",\n",
    "    \"pink\" : \"pembe\",\n",
    "    \"green\" : \"yeşil\"\n",
    "}\n",
    "colors"
   ]
  },
  {
   "cell_type": "code",
   "execution_count": 8,
   "metadata": {},
   "outputs": [
    {
     "data": {
      "text/plain": [
       "'pembe'"
      ]
     },
     "execution_count": 8,
     "metadata": {},
     "output_type": "execute_result"
    }
   ],
   "source": [
    "colors [\"pink\"]"
   ]
  },
  {
   "cell_type": "code",
   "execution_count": 10,
   "metadata": {},
   "outputs": [
    {
     "data": {
      "text/plain": [
       "'mavi'"
      ]
     },
     "execution_count": 10,
     "metadata": {},
     "output_type": "execute_result"
    }
   ],
   "source": [
    "colors.get(\"blue\")"
   ]
  },
  {
   "cell_type": "code",
   "execution_count": 11,
   "metadata": {},
   "outputs": [
    {
     "data": {
      "text/plain": [
       "dict_keys(['blue', 'red', 'yellow', 'pink', 'green'])"
      ]
     },
     "execution_count": 11,
     "metadata": {},
     "output_type": "execute_result"
    }
   ],
   "source": [
    "#hepsini bastırıyor.\n",
    "colors.keys()"
   ]
  },
  {
   "cell_type": "code",
   "execution_count": 12,
   "metadata": {},
   "outputs": [
    {
     "data": {
      "text/plain": [
       "dict_values(['mavi', 'kırmızı', 'sarı', 'pembe', 'yeşil'])"
      ]
     },
     "execution_count": 12,
     "metadata": {},
     "output_type": "execute_result"
    }
   ],
   "source": [
    "#sözlükte yer alan tüm value değerlerine erişim\n",
    "colors.values()"
   ]
  },
  {
   "cell_type": "code",
   "execution_count": 13,
   "metadata": {},
   "outputs": [
    {
     "data": {
      "text/plain": [
       "dict_items([('blue', 'mavi'), ('red', 'kırmızı'), ('yellow', 'sarı'), ('pink', 'pembe'), ('green', 'yeşil')])"
      ]
     },
     "execution_count": 13,
     "metadata": {},
     "output_type": "execute_result"
    }
   ],
   "source": [
    "#key-value çiftine erişim istersek\n",
    "colors.items()"
   ]
  },
  {
   "cell_type": "markdown",
   "metadata": {},
   "source": [
    "Döngü İle Erişim"
   ]
  },
  {
   "cell_type": "code",
   "execution_count": 14,
   "metadata": {},
   "outputs": [
    {
     "name": "stdout",
     "output_type": "stream",
     "text": [
      "blue\n",
      "red\n",
      "yellow\n",
      "pink\n",
      "green\n"
     ]
    }
   ],
   "source": [
    "colors = {\n",
    "    \"blue\" : \"mavi\",\n",
    "    \"red\" :\"kırmızı\",\n",
    "    \"yellow\" : \"sarı\",\n",
    "    \"pink\" : \"pembe\",\n",
    "    \"green\" : \"yeşil\"\n",
    "}\n",
    "for i in colors.keys():\n",
    "    print(i)"
   ]
  },
  {
   "cell_type": "code",
   "execution_count": 15,
   "metadata": {},
   "outputs": [
    {
     "name": "stdout",
     "output_type": "stream",
     "text": [
      "mavi\n",
      "kırmızı\n",
      "sarı\n",
      "pembe\n",
      "yeşil\n"
     ]
    }
   ],
   "source": [
    "for i in colors.values():\n",
    "    print(i)"
   ]
  },
  {
   "cell_type": "code",
   "execution_count": 16,
   "metadata": {},
   "outputs": [
    {
     "name": "stdout",
     "output_type": "stream",
     "text": [
      "('blue', 'mavi')\n",
      "('red', 'kırmızı')\n",
      "('yellow', 'sarı')\n",
      "('pink', 'pembe')\n",
      "('green', 'yeşil')\n"
     ]
    }
   ],
   "source": [
    "for i in colors.items():\n",
    "    print(i)"
   ]
  },
  {
   "cell_type": "code",
   "execution_count": 17,
   "metadata": {},
   "outputs": [
    {
     "name": "stdout",
     "output_type": "stream",
     "text": [
      "key: blue -- value: mavi\n",
      "key: red -- value: kırmızı\n",
      "key: yellow -- value: sarı\n",
      "key: pink -- value: pembe\n",
      "key: green -- value: yeşil\n"
     ]
    }
   ],
   "source": [
    "for i in colors.items():\n",
    "    print( f\"key: {i[0]} -- value: {i[1]}\")"
   ]
  },
  {
   "cell_type": "code",
   "execution_count": 18,
   "metadata": {},
   "outputs": [
    {
     "name": "stdout",
     "output_type": "stream",
     "text": [
      "sözlüğün uzunluğu:  5\n"
     ]
    }
   ],
   "source": [
    "print(\"sözlüğün uzunluğu: \", len(colors))"
   ]
  },
  {
   "cell_type": "markdown",
   "metadata": {},
   "source": [
    "**Sözlüğe eleman ekleme**\n",
    "\n",
    "* key-value atama işlemi ile\n",
    "* update() metodu ile"
   ]
  },
  {
   "cell_type": "code",
   "execution_count": 19,
   "metadata": {},
   "outputs": [
    {
     "data": {
      "text/plain": [
       "{1990: 'friends',\n",
       " 1991: 'person of interest',\n",
       " 1992: 'Heartland',\n",
       " 1993: 'Doctor who',\n",
       " 1994: 'merlin'}"
      ]
     },
     "execution_count": 19,
     "metadata": {},
     "output_type": "execute_result"
    }
   ],
   "source": [
    "movies = {\n",
    "    1990 : \"friends\",\n",
    "    1991 : \"person of interest\",\n",
    "    1992 : \"Heartland\",\n",
    "    1993 :  \"Doctor who\",\n",
    "    1994 :  \"merlin\"\n",
    "\n",
    "}\n",
    "movies"
   ]
  },
  {
   "cell_type": "code",
   "execution_count": 20,
   "metadata": {},
   "outputs": [
    {
     "data": {
      "text/plain": [
       "{1990: 'friends',\n",
       " 1991: 'person of interest',\n",
       " 1992: 'Heartland',\n",
       " 1993: 'Doctor who',\n",
       " 1994: 'merlin',\n",
       " 1995: 'harry potter'}"
      ]
     },
     "execution_count": 20,
     "metadata": {},
     "output_type": "execute_result"
    }
   ],
   "source": [
    "#mevcutta var olmayan yeni değer ekleme\n",
    "movies [1995] = \"harry potter\"\n",
    "movies"
   ]
  },
  {
   "cell_type": "code",
   "execution_count": 21,
   "metadata": {},
   "outputs": [
    {
     "data": {
      "text/plain": [
       "{1990: 'friends',\n",
       " 1991: 'person of interest',\n",
       " 1992: 'Heartland',\n",
       " 1993: 'Doctor who',\n",
       " 1994: 'the big bang theory',\n",
       " 1995: 'harry potter'}"
      ]
     },
     "execution_count": 21,
     "metadata": {},
     "output_type": "execute_result"
    }
   ],
   "source": [
    "#varolan değeri değiştirme\n",
    "movies[1994] = \"the big bang theory\"\n",
    "\n",
    "movies"
   ]
  },
  {
   "cell_type": "code",
   "execution_count": 22,
   "metadata": {},
   "outputs": [
    {
     "data": {
      "text/plain": [
       "{1990: 'friends',\n",
       " 1991: 'person of interest',\n",
       " 1992: 'Heartland',\n",
       " 1993: 'The queen gambit',\n",
       " 1994: 'the big bang theory',\n",
       " 1995: 'harry potter',\n",
       " 1996: 'Squid game'}"
      ]
     },
     "execution_count": 22,
     "metadata": {},
     "output_type": "execute_result"
    }
   ],
   "source": [
    "movies.update({1996 : \"Squid game\", 1993: \"The queen gambit\"})\n",
    "movies"
   ]
  },
  {
   "cell_type": "markdown",
   "metadata": {},
   "source": [
    "**Silme İşlemleri**\n",
    "\n",
    "* del key\n",
    "* clear()\n",
    "* del dict_name\n",
    "* popitem()\n",
    "* pop(key)"
   ]
  },
  {
   "cell_type": "code",
   "execution_count": 4,
   "metadata": {},
   "outputs": [
    {
     "data": {
      "text/plain": [
       "{'name': 'irem', 'TCKN': '221354564', 'start_date': 2019, 'title': 'engineer'}"
      ]
     },
     "execution_count": 4,
     "metadata": {},
     "output_type": "execute_result"
    }
   ],
   "source": [
    "\n",
    "personel_info = {\n",
    "    \"name\" : \"irem\",\n",
    "    \"TCKN\": \"221354564\",\n",
    "    \"start_date\" : 2019,\n",
    "    \"title\" : \"engineer\"\n",
    "\n",
    "}\n",
    "personel_info"
   ]
  },
  {
   "cell_type": "code",
   "execution_count": 2,
   "metadata": {},
   "outputs": [
    {
     "data": {
      "text/plain": [
       "{'name': 'irem', 'TCKN': '221354564', 'title': 'engineer'}"
      ]
     },
     "execution_count": 2,
     "metadata": {},
     "output_type": "execute_result"
    }
   ],
   "source": [
    "#del key\n",
    "del personel_info[\"start_date\"]\n",
    "\n",
    "personel_info"
   ]
  },
  {
   "cell_type": "code",
   "execution_count": 1,
   "metadata": {},
   "outputs": [
    {
     "ename": "NameError",
     "evalue": "name 'personel_info' is not defined",
     "output_type": "error",
     "traceback": [
      "\u001b[1;31m---------------------------------------------------------------------------\u001b[0m",
      "\u001b[1;31mNameError\u001b[0m                                 Traceback (most recent call last)",
      "Cell \u001b[1;32mIn [1], line 2\u001b[0m\n\u001b[0;32m      1\u001b[0m \u001b[39m#clear\u001b[39;00m\n\u001b[1;32m----> 2\u001b[0m personel_info\u001b[39m.\u001b[39mclear()\n\u001b[0;32m      4\u001b[0m personel_info\n",
      "\u001b[1;31mNameError\u001b[0m: name 'personel_info' is not defined"
     ]
    }
   ],
   "source": [
    "#clear\n",
    "personel_info.clear()\n",
    "\n",
    "personel_info"
   ]
  },
  {
   "cell_type": "code",
   "execution_count": 5,
   "metadata": {},
   "outputs": [
    {
     "ename": "NameError",
     "evalue": "name 'personel_info' is not defined",
     "output_type": "error",
     "traceback": [
      "\u001b[1;31m---------------------------------------------------------------------------\u001b[0m",
      "\u001b[1;31mNameError\u001b[0m                                 Traceback (most recent call last)",
      "Cell \u001b[1;32mIn [5], line 4\u001b[0m\n\u001b[0;32m      1\u001b[0m \u001b[39m#del dict_name\u001b[39;00m\n\u001b[0;32m      2\u001b[0m \u001b[39mdel\u001b[39;00m personel_info\n\u001b[1;32m----> 4\u001b[0m personel_info\n",
      "\u001b[1;31mNameError\u001b[0m: name 'personel_info' is not defined"
     ]
    }
   ],
   "source": [
    "#del dict_name\n",
    "del personel_info\n",
    "\n",
    "personel_info"
   ]
  },
  {
   "cell_type": "code",
   "execution_count": 6,
   "metadata": {},
   "outputs": [
    {
     "data": {
      "text/plain": [
       "{'name': 'irem', 'TCKN': '221354564', 'start_date': 2019, 'title': 'engineer'}"
      ]
     },
     "execution_count": 6,
     "metadata": {},
     "output_type": "execute_result"
    }
   ],
   "source": [
    "#popitem() -> son eklenen elemanı siler\n",
    "\n",
    "personel_info = {\n",
    "    \"name\" : \"irem\",\n",
    "    \"TCKN\": \"221354564\",\n",
    "    \"start_date\" : 2019,\n",
    "    \"title\" : \"engineer\"\n",
    "\n",
    "}\n",
    "personel_info\n"
   ]
  },
  {
   "cell_type": "code",
   "execution_count": 7,
   "metadata": {},
   "outputs": [
    {
     "data": {
      "text/plain": [
       "{'name': 'irem', 'TCKN': '221354564', 'start_date': 2019}"
      ]
     },
     "execution_count": 7,
     "metadata": {},
     "output_type": "execute_result"
    }
   ],
   "source": [
    "personel_info.popitem()\n",
    "\n",
    "personel_info"
   ]
  },
  {
   "cell_type": "code",
   "execution_count": 8,
   "metadata": {},
   "outputs": [
    {
     "data": {
      "text/plain": [
       "{'name': 'irem', 'start_date': 2019}"
      ]
     },
     "execution_count": 8,
     "metadata": {},
     "output_type": "execute_result"
    }
   ],
   "source": [
    "#pop \n",
    "personel_info.pop(\"TCKN\")\n",
    "\n",
    "personel_info"
   ]
  },
  {
   "cell_type": "code",
   "execution_count": 9,
   "metadata": {},
   "outputs": [
    {
     "ename": "KeyError",
     "evalue": "'TCKN'",
     "output_type": "error",
     "traceback": [
      "\u001b[1;31m---------------------------------------------------------------------------\u001b[0m",
      "\u001b[1;31mKeyError\u001b[0m                                  Traceback (most recent call last)",
      "Cell \u001b[1;32mIn [9], line 2\u001b[0m\n\u001b[0;32m      1\u001b[0m \u001b[39m#pop \u001b[39;00m\n\u001b[1;32m----> 2\u001b[0m personel_info\u001b[39m.\u001b[39mpop(\u001b[39m\"\u001b[39m\u001b[39mTCKN\u001b[39m\u001b[39m\"\u001b[39m)\n\u001b[0;32m      4\u001b[0m personel_info\n",
      "\u001b[1;31mKeyError\u001b[0m: 'TCKN'"
     ]
    }
   ],
   "source": [
    "#olmayan şeyi silersek\n",
    "personel_info.pop(\"TCKN\")\n",
    "\n",
    "personel_info"
   ]
  },
  {
   "cell_type": "markdown",
   "metadata": {},
   "source": [
    "Bir anahtarın varlığını kontrol etme"
   ]
  },
  {
   "cell_type": "code",
   "execution_count": 10,
   "metadata": {},
   "outputs": [
    {
     "data": {
      "text/plain": [
       "{'adana': 1,\n",
       " 'antalya': 7,\n",
       " 'kayseri': 38,\n",
       " 'izmir': 35,\n",
       " 'giresun': 28,\n",
       " 'istanbul': 34}"
      ]
     },
     "execution_count": 10,
     "metadata": {},
     "output_type": "execute_result"
    }
   ],
   "source": [
    "cities = {\"adana\":1, \"antalya\":7, \"kayseri\":38, \"izmir\": 35, \"giresun\":28}\n",
    "\n",
    "if \"istanbul\" not in cities.keys():\n",
    "    cities[\"istanbul\"] = 34\n",
    "\n",
    "cities"
   ]
  },
  {
   "cell_type": "markdown",
   "metadata": {},
   "source": [
    "iki sözlüğü birleştirme\n",
    "\n",
    "* update\n",
    "* ** ile"
   ]
  },
  {
   "cell_type": "code",
   "execution_count": 2,
   "metadata": {},
   "outputs": [
    {
     "name": "stdout",
     "output_type": "stream",
     "text": [
      "{'adana': 1, 'antalya': 7, 'kayseri': 38, 'izmir': 35, 'giresun': 28, 'manisa': 45, 'van': 65}\n",
      "{'manisa': 45, 'van': 65}\n"
     ]
    }
   ],
   "source": [
    "cities = {\"adana\":1, \"antalya\":7, \"kayseri\":38, \"izmir\": 35, \"giresun\":28} \n",
    "cities2 = {\"manisa\": 45, \"van\":65 }\n",
    "\n",
    "cities.update(cities2)\n",
    "\n",
    "print(cities)\n",
    "print(cities2)"
   ]
  },
  {
   "cell_type": "code",
   "execution_count": 13,
   "metadata": {},
   "outputs": [
    {
     "data": {
      "text/plain": [
       "{'adana': 1,\n",
       " 'antalya': 7,\n",
       " 'kayseri': 38,\n",
       " 'izmir': 35,\n",
       " 'giresun': 28,\n",
       " 'manisa': 45,\n",
       " 'van': 65}"
      ]
     },
     "execution_count": 13,
     "metadata": {},
     "output_type": "execute_result"
    }
   ],
   "source": [
    "cities = {\"adana\":1, \"antalya\":7, \"kayseri\":38, \"izmir\": 35, \"giresun\":28} \n",
    "cities2 = {\"manisa\": 45, \"van\":65 }\n",
    "\n",
    "\n",
    "new_cities = {**cities, **cities2}\n",
    "new_cities"
   ]
  },
  {
   "cell_type": "code",
   "execution_count": 14,
   "metadata": {},
   "outputs": [
    {
     "data": {
      "text/plain": [
       "{'adana': 1,\n",
       " 'antalya': 7,\n",
       " 'kayseri': 38,\n",
       " 'izmir': 35,\n",
       " 'giresun': 28,\n",
       " 'manisa': 45,\n",
       " 'van': 65}"
      ]
     },
     "execution_count": 14,
     "metadata": {},
     "output_type": "execute_result"
    }
   ],
   "source": [
    "#her iki sözlükte aynı key değeri yer aldığında son dictionary içindeki key değerinin değeri kabul edilir.\n",
    "cities = {\"adana\":1, \"antalya\":7, \"kayseri\":38, \"izmir\": 35, \"giresun\":28} \n",
    "cities2 = {\"manisa\": 45, \"van\":65 }\n",
    "\n",
    "new_cities = {**cities, **cities2}\n",
    "new_cities"
   ]
  },
  {
   "cell_type": "markdown",
   "metadata": {},
   "source": [
    "Dictionary kopyalama işlemleri\n",
    "\n",
    "* copy()\n",
    "* dict()\n",
    "*  = operatörü"
   ]
  },
  {
   "cell_type": "code",
   "execution_count": 20,
   "metadata": {},
   "outputs": [
    {
     "data": {
      "text/plain": [
       "{1: 'voleybol', 2: 'basketbol', 3: 'tenis', 4: 'yüzme', 5: 'futbol'}"
      ]
     },
     "execution_count": 20,
     "metadata": {},
     "output_type": "execute_result"
    }
   ],
   "source": [
    "sports = {\n",
    "    1: \"voleybol\",\n",
    "    2: \"basketbol\",\n",
    "    3: \"tenis\" ,\n",
    "    4: \"yüzme\",\n",
    "    5: \"futbol\"\n",
    "}\n",
    "sports"
   ]
  },
  {
   "cell_type": "code",
   "execution_count": 23,
   "metadata": {},
   "outputs": [
    {
     "name": "stdout",
     "output_type": "stream",
     "text": [
      "{1: 'voleybol', 2: 'basketbol', 3: 'tenis', 4: 'yüzme', 5: 'futbol', 6: 'oryantiring'}\n",
      "{1: 'voleybol', 2: 'basketbol', 3: 'tenis', 4: 'yüzme', 5: 'futbol'}\n"
     ]
    }
   ],
   "source": [
    "#copy()\n",
    "copy_sports = sports.copy()\n",
    "\n",
    "copy_sports[6] = \"oryantiring\"\n",
    "\n",
    "print(copy_sports)\n",
    "print(sports)"
   ]
  },
  {
   "cell_type": "code",
   "execution_count": 24,
   "metadata": {},
   "outputs": [
    {
     "name": "stdout",
     "output_type": "stream",
     "text": [
      "{1: 'voleybol', 2: 'basketbol', 3: 'tenis', 4: 'yüzme', 5: 'futbol', 6: 'oryantiring'}\n",
      "{1: 'voleybol', 2: 'basketbol', 3: 'tenis', 4: 'yüzme', 5: 'futbol', 6: 'oryantiring'}\n"
     ]
    }
   ],
   "source": [
    "# = operatörü\n",
    "new_sports = sports\n",
    "new_sports[6] = \"oryantiring\"\n",
    "\n",
    "print(new_sports)\n",
    "print(sports)"
   ]
  },
  {
   "cell_type": "code",
   "execution_count": 25,
   "metadata": {},
   "outputs": [
    {
     "name": "stdout",
     "output_type": "stream",
     "text": [
      "{1: 'voleybol', 2: 'basketbol', 3: 'tenis', 4: 'yüzme', 5: 'futbol', 6: 'oryantiring'}\n",
      "{1: 'voleybol', 2: 'basketbol', 3: 'tenis', 4: 'yüzme', 5: 'futbol'}\n"
     ]
    }
   ],
   "source": [
    "#dict ile\n",
    "\n",
    "sports = {\n",
    "    1: \"voleybol\",\n",
    "    2: \"basketbol\",\n",
    "    3: \"tenis\" ,\n",
    "    4: \"yüzme\",\n",
    "    5: \"futbol\"\n",
    "}\n",
    "\n",
    "dict_sports = dict(sports)\n",
    "dict_sports[6] = \"oryantiring\"\n",
    "\n",
    "print(dict_sports)\n",
    "print(sports)"
   ]
  },
  {
   "cell_type": "markdown",
   "metadata": {},
   "source": [
    "**İç içe sözlükler**"
   ]
  },
  {
   "cell_type": "code",
   "execution_count": 28,
   "metadata": {},
   "outputs": [
    {
     "data": {
      "text/plain": [
       "{'name': 'Aysel',\n",
       " 'GSM': '0233465465',\n",
       " 'email': 'aysel.aydin@sisterslab.co',\n",
       " 'adres': {'adana': 'merkez', 'istanbul': 'Pendik', 'is': 'maltepe'}}"
      ]
     },
     "execution_count": 28,
     "metadata": {},
     "output_type": "execute_result"
    }
   ],
   "source": [
    "my_info = {\n",
    "    \"name\" : \"Aysel\",\n",
    "    \"GSM\" : \"0233465465\",\n",
    "    \"email\" : \"aysel.aydin@sisterslab.co\",\n",
    "    \"adres\" : {\"adana\": \"merkez\", \"istanbul\" : \"Pendik\", \"is\": \"maltepe\"}\n",
    "}\n",
    "\n",
    "my_info"
   ]
  },
  {
   "cell_type": "code",
   "execution_count": 29,
   "metadata": {},
   "outputs": [
    {
     "data": {
      "text/plain": [
       "'Pendik'"
      ]
     },
     "execution_count": 29,
     "metadata": {},
     "output_type": "execute_result"
    }
   ],
   "source": [
    "my_info[\"adres\"][\"istanbul\"]"
   ]
  }
 ],
 "metadata": {
  "kernelspec": {
   "display_name": "Python 3.10.5 64-bit",
   "language": "python",
   "name": "python3"
  },
  "language_info": {
   "codemirror_mode": {
    "name": "ipython",
    "version": 3
   },
   "file_extension": ".py",
   "mimetype": "text/x-python",
   "name": "python",
   "nbconvert_exporter": "python",
   "pygments_lexer": "ipython3",
   "version": "3.10.5"
  },
  "orig_nbformat": 4,
  "vscode": {
   "interpreter": {
    "hash": "62152218f5ae77fab72cd74f672204b070f3d26a6c6ea88577bcd7d0571ecb6a"
   }
  }
 },
 "nbformat": 4,
 "nbformat_minor": 2
}
