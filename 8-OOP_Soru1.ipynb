{
 "cells": [
  {
   "cell_type": "markdown",
   "metadata": {},
   "source": [
    "**Hayvanat Bahçesi**\n",
    "Hayvanların bilgilerini takip etmek için bir sistem tasarlayalım.\n",
    "* Hayvanlar:\n",
    "* Atlar (zebralar, atlar, eşşekler vb.)\n",
    "* Kemirgenler (sıçanlar, kunduzlar vb)\n",
    "* kedigiller (kaplanlar, aslanlar)\n",
    "* hayvanların tür adı, ağırlığı ve yaş bilgileri tutulacak.\n",
    "* Sistem yem verme saatlerini seçebilmeli -> getFeedSchedule()\n",
    "* Her hayvan için belirli ilaçların dozajının belirlenmesi -> getDosage()\n"
   ]
  },
  {
   "cell_type": "code",
   "execution_count": 1,
   "metadata": {},
   "outputs": [],
   "source": [
    "class Hayvan:\n",
    "    def __init__(self, tur_adi, agirligi, yas):\n",
    "        self.tur_adi = tur_adi\n",
    "        self.agirligi = agirligi\n",
    "        self.yas = yas\n",
    "\n",
    "    def getFeedSchedule(self):\n",
    "        return[10,20]\n",
    "    \n",
    "    def getDosage(self):\n",
    "        return 2"
   ]
  },
  {
   "cell_type": "code",
   "execution_count": 2,
   "metadata": {},
   "outputs": [],
   "source": [
    "class Atlar(Hayvan):\n",
    "    def __init__(self, tur_adi, agirligi, yas):\n",
    "        super().__init__(tur_adi, agirligi, yas)\n",
    "    \n",
    "    def getFeedSchedule(self):\n",
    "        return [6, 12, 18]\n",
    "    \n",
    "    def getDosage(self):\n",
    "        return 3"
   ]
  },
  {
   "cell_type": "code",
   "execution_count": 3,
   "metadata": {},
   "outputs": [],
   "source": [
    "class Kemirgenler(Hayvan):\n",
    "    def __init__(self, tur_adi, agirligi, yas):\n",
    "        super().__init__(tur_adi, agirligi, yas)\n",
    "    \n",
    "    def getFeedSchedule(self):\n",
    "        return [8, 18]\n",
    "    \n",
    "    def getDosage(self):\n",
    "        return 1"
   ]
  },
  {
   "cell_type": "code",
   "execution_count": 4,
   "metadata": {},
   "outputs": [],
   "source": [
    "class Kedigiller(Hayvan):\n",
    "    def __init__(self, tur_adi, agirligi, yas):\n",
    "        super().__init__(tur_adi, agirligi, yas)\n",
    "    \n",
    "    def getFeedSchedule(self):\n",
    "        return [6, 13, 20]\n",
    "    \n",
    "    def getDosage(self):\n",
    "        return 2"
   ]
  },
  {
   "cell_type": "code",
   "execution_count": 5,
   "metadata": {},
   "outputs": [],
   "source": [
    "at = Atlar(\"at\", 150, 3)\n",
    "aslan= Kedigiller(\"aslan\", 90, 1)\n",
    "kemirgen= Kemirgenler(\"kemirgen\",2,1)"
   ]
  },
  {
   "cell_type": "code",
   "execution_count": 6,
   "metadata": {},
   "outputs": [
    {
     "name": "stdout",
     "output_type": "stream",
     "text": [
      "Atlar için:\n",
      "İlaç Dozu: 3\n",
      " Yem Saatleri:[6, 12, 18]\n",
      "\n",
      "\n",
      "Kedigiller için:\n",
      "İlaç Dozu: 2\n",
      " Yem Saatleri:[6, 13, 20]\n",
      "\n",
      "\n",
      "Kemirgenler için:\n",
      "İlaç Dozu: 1\n",
      " Yem Saatleri:[8, 18]\n",
      "\n",
      "\n"
     ]
    }
   ],
   "source": [
    "print(f\"Atlar için:\\nİlaç Dozu: {at.getDosage()}\\n Yem Saatleri:{at.getFeedSchedule()}\\n\\n\")\n",
    "print(f\"Kedigiller için:\\nİlaç Dozu: {aslan.getDosage()}\\n Yem Saatleri:{aslan.getFeedSchedule()}\\n\\n\")\n",
    "print(f\"Kemirgenler için:\\nİlaç Dozu: {kemirgen.getDosage()}\\n Yem Saatleri:{kemirgen.getFeedSchedule()}\\n\\n\")"
   ]
  }
 ],
 "metadata": {
  "kernelspec": {
   "display_name": "Python 3.10.5 64-bit",
   "language": "python",
   "name": "python3"
  },
  "language_info": {
   "codemirror_mode": {
    "name": "ipython",
    "version": 3
   },
   "file_extension": ".py",
   "mimetype": "text/x-python",
   "name": "python",
   "nbconvert_exporter": "python",
   "pygments_lexer": "ipython3",
   "version": "3.10.5"
  },
  "orig_nbformat": 4,
  "vscode": {
   "interpreter": {
    "hash": "62152218f5ae77fab72cd74f672204b070f3d26a6c6ea88577bcd7d0571ecb6a"
   }
  }
 },
 "nbformat": 4,
 "nbformat_minor": 2
}
