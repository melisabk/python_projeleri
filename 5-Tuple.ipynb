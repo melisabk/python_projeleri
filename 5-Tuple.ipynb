{
 "cells": [
  {
   "cell_type": "markdown",
   "metadata": {},
   "source": [
    "**Tuple**\n",
    "\n",
    "* index ile erişilebilir, ordered yani sıralıdır.\n",
    "* Tuple değiştirilemezler (inmutable). Oluşturulduktan sonra bir eleman eklenemez, silinemez.\n",
    "* () parantez içerisinde tanımlanır. .Elemanlar virgüller ile ayrılır.\n",
    "* Farklı veri tipleri içerebilir.\n",
    "* Duplicate veri olabilir. Aynı eleman birden fazla yer alabilir.\n"
   ]
  },
  {
   "cell_type": "code",
   "execution_count": 1,
   "metadata": {},
   "outputs": [],
   "source": [
    "int_tuple = (1, 3, 5)\n",
    "string_tuple = (\"Python\", \"kotlin\", \"Javascript\", \"Flutter\")\n",
    "mix_tuple = (1, 6, 4, 1, \"Python\", True, 13.4)"
   ]
  },
  {
   "cell_type": "code",
   "execution_count": 2,
   "metadata": {},
   "outputs": [
    {
     "name": "stdout",
     "output_type": "stream",
     "text": [
      "(1, 6, 4, 1, 'Python', True, 13.4)\n"
     ]
    }
   ],
   "source": [
    "print(mix_tuple)"
   ]
  },
  {
   "cell_type": "code",
   "execution_count": 3,
   "metadata": {},
   "outputs": [
    {
     "data": {
      "text/plain": [
       "tuple"
      ]
     },
     "execution_count": 3,
     "metadata": {},
     "output_type": "execute_result"
    }
   ],
   "source": [
    "type(mix_tuple)"
   ]
  },
  {
   "cell_type": "code",
   "execution_count": 4,
   "metadata": {},
   "outputs": [
    {
     "data": {
      "text/plain": [
       "tuple"
      ]
     },
     "execution_count": 4,
     "metadata": {},
     "output_type": "execute_result"
    }
   ],
   "source": [
    "my_tuple = \"Buse\", 23, 7809\n",
    "\n",
    "type(my_tuple)"
   ]
  },
  {
   "cell_type": "code",
   "execution_count": 6,
   "metadata": {},
   "outputs": [
    {
     "name": "stdout",
     "output_type": "stream",
     "text": [
      "('Buse', 23, 7809)\n"
     ]
    }
   ],
   "source": [
    "name, age, salary = my_tuple\n",
    "print(name, age, salary)"
   ]
  },
  {
   "cell_type": "code",
   "execution_count": 7,
   "metadata": {},
   "outputs": [
    {
     "name": "stdout",
     "output_type": "stream",
     "text": [
      "tuple uzunluğu  3\n"
     ]
    }
   ],
   "source": [
    "print(\"tuple uzunluğu \", len(my_tuple))"
   ]
  },
  {
   "cell_type": "markdown",
   "metadata": {},
   "source": [
    "döngü ile erişim"
   ]
  },
  {
   "cell_type": "code",
   "execution_count": 8,
   "metadata": {},
   "outputs": [
    {
     "name": "stdout",
     "output_type": "stream",
     "text": [
      "Buse\n",
      "23\n",
      "7809\n"
     ]
    }
   ],
   "source": [
    "for item in my_tuple:\n",
    "    print(item)"
   ]
  },
  {
   "cell_type": "code",
   "execution_count": 9,
   "metadata": {},
   "outputs": [
    {
     "name": "stdout",
     "output_type": "stream",
     "text": [
      "0. index değeri: Python\n",
      "1. index değeri: kotlin\n",
      "2. index değeri: Javascript\n",
      "3. index değeri: Flutter\n"
     ]
    }
   ],
   "source": [
    "my_tuple = (\"Python\", \"kotlin\", \"Javascript\", \"Flutter\")\n",
    "\n",
    "for i in range(len(my_tuple)):\n",
    "    print(f\"{i}. index değeri: {my_tuple[i]}\")"
   ]
  },
  {
   "cell_type": "code",
   "execution_count": 10,
   "metadata": {},
   "outputs": [
    {
     "ename": "IndexError",
     "evalue": "tuple index out of range",
     "output_type": "error",
     "traceback": [
      "\u001b[1;31m---------------------------------------------------------------------------\u001b[0m",
      "\u001b[1;31mIndexError\u001b[0m                                Traceback (most recent call last)",
      "Cell \u001b[1;32mIn [10], line 1\u001b[0m\n\u001b[1;32m----> 1\u001b[0m \u001b[39mprint\u001b[39m(my_tuple[\u001b[39m9\u001b[39m])\n",
      "\u001b[1;31mIndexError\u001b[0m: tuple index out of range"
     ]
    }
   ],
   "source": [
    "#olmayan indexe erişmeye çalışmak\n",
    "print(my_tuple[9])"
   ]
  },
  {
   "cell_type": "code",
   "execution_count": 11,
   "metadata": {},
   "outputs": [
    {
     "data": {
      "text/plain": [
       "'Flutter'"
      ]
     },
     "execution_count": 11,
     "metadata": {},
     "output_type": "execute_result"
    }
   ],
   "source": [
    "#negatif indexle erişim\n",
    "\n",
    "my_tuple[-1]"
   ]
  },
  {
   "cell_type": "code",
   "execution_count": 12,
   "metadata": {},
   "outputs": [
    {
     "data": {
      "text/plain": [
       "('kotlin', 'Javascript')"
      ]
     },
     "execution_count": 12,
     "metadata": {},
     "output_type": "execute_result"
    }
   ],
   "source": [
    "#slicing\n",
    "\n",
    "my_tuple[1:3]"
   ]
  },
  {
   "cell_type": "code",
   "execution_count": 13,
   "metadata": {},
   "outputs": [
    {
     "data": {
      "text/plain": [
       "1"
      ]
     },
     "execution_count": 13,
     "metadata": {},
     "output_type": "execute_result"
    }
   ],
   "source": [
    "#index\n",
    "\n",
    "my_tuple.index(\"kotlin\")"
   ]
  },
  {
   "cell_type": "code",
   "execution_count": null,
   "metadata": {},
   "outputs": [],
   "source": [
    "# 0 ve 3 indexleri arasında arar.\n",
    "\n",
    "my_tuple.index(\"kotlin\",0,3)"
   ]
  },
  {
   "cell_type": "code",
   "execution_count": 14,
   "metadata": {},
   "outputs": [
    {
     "name": "stdout",
     "output_type": "stream",
     "text": [
      "kotlin tuple içerisinde ekli\n"
     ]
    }
   ],
   "source": [
    "if \"kotlin\" in my_tuple:\n",
    "    print(\"kotlin tuple içerisinde ekli\")\n",
    "else: print(\"kotlin tuple içerisinde ekli değil.\")"
   ]
  },
  {
   "cell_type": "markdown",
   "metadata": {},
   "source": [
    "Eleman ekleme, silme, düzenleme\n",
    "Bir tuple üzerinde bu işlemler yapılamaz. Yapıldığı durumda hata alınır."
   ]
  },
  {
   "cell_type": "code",
   "execution_count": 15,
   "metadata": {},
   "outputs": [
    {
     "ename": "TypeError",
     "evalue": "'tuple' object does not support item assignment",
     "output_type": "error",
     "traceback": [
      "\u001b[1;31m---------------------------------------------------------------------------\u001b[0m",
      "\u001b[1;31mTypeError\u001b[0m                                 Traceback (most recent call last)",
      "Cell \u001b[1;32mIn [15], line 1\u001b[0m\n\u001b[1;32m----> 1\u001b[0m my_tuple[\u001b[39m0\u001b[39m] \u001b[39m=\u001b[39m \u001b[39m\"\u001b[39m\u001b[39mjava\u001b[39m\u001b[39m\"\u001b[39m\n",
      "\u001b[1;31mTypeError\u001b[0m: 'tuple' object does not support item assignment"
     ]
    }
   ],
   "source": [
    "my_tuple[0] = \"java\""
   ]
  },
  {
   "cell_type": "code",
   "execution_count": 19,
   "metadata": {},
   "outputs": [
    {
     "name": "stdout",
     "output_type": "stream",
     "text": [
      "type:  <class 'tuple'>\n",
      "Tuple:  (1, 2, 3, 4)\n",
      "convert type:  <class 'list'>\n",
      "son hali:  (0, 1, 2, 3, 4, 5, 6, 7, 8)\n"
     ]
    }
   ],
   "source": [
    "my_tuple = (1, 2, 3, 4)\n",
    "print(\"type: \", type(my_tuple))\n",
    "print(\"Tuple: \",my_tuple)\n",
    "\n",
    "temp_list = list(my_tuple)\n",
    "print(\"convert type: \", type(temp_list))\n",
    "\n",
    "temp_list.insert(0, 0)\n",
    "temp_list.append(5)\n",
    "temp_list.extend([6,7,8])\n",
    "\n",
    "\n",
    "my_tuple = tuple(temp_list)\n",
    "print(\"son hali: \",my_tuple)"
   ]
  },
  {
   "cell_type": "code",
   "execution_count": 20,
   "metadata": {},
   "outputs": [
    {
     "name": "stdout",
     "output_type": "stream",
     "text": [
      "(1, 2, 3, 5, [9, 7, 8], 9)\n"
     ]
    }
   ],
   "source": [
    "my_tuple = (1, 2, 3, 5, [6, 7, 8], 9)\n",
    "\n",
    "my_tuple[4][0] = 9\n",
    "\n",
    "print(my_tuple)"
   ]
  },
  {
   "cell_type": "code",
   "execution_count": 21,
   "metadata": {},
   "outputs": [
    {
     "name": "stdout",
     "output_type": "stream",
     "text": [
      "(1, 2, 3, 5, [9, 7, 8], 9)\n"
     ]
    }
   ],
   "source": [
    "my_tuple1 = my_tuple\n",
    "\n",
    "print(my_tuple1)"
   ]
  },
  {
   "cell_type": "code",
   "execution_count": 22,
   "metadata": {},
   "outputs": [
    {
     "data": {
      "text/plain": [
       "9"
      ]
     },
     "execution_count": 22,
     "metadata": {},
     "output_type": "execute_result"
    }
   ],
   "source": [
    "my_tuple = (1, 2, 9, 3, 4)\n",
    "\n",
    "max(my_tuple)"
   ]
  }
 ],
 "metadata": {
  "kernelspec": {
   "display_name": "Python 3.10.5 64-bit",
   "language": "python",
   "name": "python3"
  },
  "language_info": {
   "codemirror_mode": {
    "name": "ipython",
    "version": 3
   },
   "file_extension": ".py",
   "mimetype": "text/x-python",
   "name": "python",
   "nbconvert_exporter": "python",
   "pygments_lexer": "ipython3",
   "version": "3.10.5"
  },
  "orig_nbformat": 4,
  "vscode": {
   "interpreter": {
    "hash": "62152218f5ae77fab72cd74f672204b070f3d26a6c6ea88577bcd7d0571ecb6a"
   }
  }
 },
 "nbformat": 4,
 "nbformat_minor": 2
}
