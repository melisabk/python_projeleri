{
 "cells": [
  {
   "cell_type": "markdown",
   "metadata": {},
   "source": [
    "**Dosyalama İşlemleri**\n",
    "\n",
    "* Dosyayı açma\n",
    "* Dosyadan veri okuma\n",
    "* Dosyaya yazma\n",
    "* Dosya Kapatma\n"
   ]
  },
  {
   "cell_type": "markdown",
   "metadata": {},
   "source": [
    "open(\"dosya_yolu\", \"erisim_modu\")"
   ]
  },
  {
   "cell_type": "markdown",
   "metadata": {},
   "source": [
    "* w -> Dosyayı yazma amacıyla açar. Bir dosya zaten varsa dosyanın üzerine yazar.\n",
    "* a -> Ekleme modunda dosyayı açar. Dosyanın sonuna yeni satırları ekler.\n",
    "*  "
   ]
  },
  {
   "cell_type": "code",
   "execution_count": 11,
   "metadata": {},
   "outputs": [],
   "source": [
    "f = open(\"names.txt\", \"w\", encoding = \"utf-8\")\n",
    "f.write(\"Büşranur \")\n",
    "f.write(\"Müzeyyen \")\n",
    "f.write(\"Duygu \")\n",
    "f.write(\"İrem \")\n",
    "\n",
    "f.close()"
   ]
  },
  {
   "cell_type": "code",
   "execution_count": 12,
   "metadata": {},
   "outputs": [],
   "source": [
    "f= open(\"names.txt\", \"a\", encoding = \"utf-8\")\n",
    "\n",
    "f.write(\"Bilge \")\n",
    "f.close()"
   ]
  },
  {
   "cell_type": "code",
   "execution_count": 13,
   "metadata": {},
   "outputs": [],
   "source": [
    "my_list = [\"Hatice\", \"Edanur\", \"Nihan\", \"Zeynep\", \"Menekşe\"]\n",
    "\n",
    "f = open(\"names2.txt\", \"w\", encoding = \"utf-8\")\n",
    "\n",
    "for name in my_list:\n",
    "    f.write(name + \"\\n\")\n",
    "f.close()"
   ]
  },
  {
   "cell_type": "code",
   "execution_count": 14,
   "metadata": {},
   "outputs": [
    {
     "name": "stdout",
     "output_type": "stream",
     "text": [
      "['.git', '.gitignore', '4-fonksiyonlar.ipynb', '4-moduller.ipynb', '5- lambda_filter_map.ipynb', '5-Tuple.ipynb', '5-VeriYapıları_List.ipynb', '6-VeriYapıları_Dictionary.ipynb', '6-VeriYapıları_Set.ipynb', '7-Dosya_islemleri.ipynb', '7-Exceptions.ipynb', 'names.txt', 'names2.txt', 'pythonakademi', 'README.md']\n"
     ]
    }
   ],
   "source": [
    "import os #ilgili dizinde hangi dosyalar var\n",
    "\n",
    "print(os.listdir())"
   ]
  },
  {
   "cell_type": "code",
   "execution_count": 15,
   "metadata": {},
   "outputs": [
    {
     "name": "stdout",
     "output_type": "stream",
     "text": [
      "True\n"
     ]
    }
   ],
   "source": [
    "print(os.path.isfile(\"names.txt\"))"
   ]
  },
  {
   "cell_type": "code",
   "execution_count": 16,
   "metadata": {},
   "outputs": [
    {
     "name": "stdout",
     "output_type": "stream",
     "text": [
      "False\n"
     ]
    }
   ],
   "source": [
    "print(os.path.isfile(\"surname.txt\"))"
   ]
  },
  {
   "cell_type": "markdown",
   "metadata": {},
   "source": [
    "Farklı bir dizinde dosya kontrolü"
   ]
  },
  {
   "cell_type": "code",
   "execution_count": 18,
   "metadata": {},
   "outputs": [
    {
     "ename": "SyntaxError",
     "evalue": "(unicode error) 'unicodeescape' codec can't decode bytes in position 2-3: truncated \\UXXXXXXXX escape (1037850710.py, line 1)",
     "output_type": "error",
     "traceback": [
      "\u001b[1;36m  Cell \u001b[1;32mIn [18], line 1\u001b[1;36m\u001b[0m\n\u001b[1;33m    f = open(r 'C:\\Users\\Melisa BUYUKKOPRU\\Desktop\\hello.txt', \"w\")\u001b[0m\n\u001b[1;37m                                                             ^\u001b[0m\n\u001b[1;31mSyntaxError\u001b[0m\u001b[1;31m:\u001b[0m (unicode error) 'unicodeescape' codec can't decode bytes in position 2-3: truncated \\UXXXXXXXX escape\n"
     ]
    }
   ],
   "source": [
    "#kontrol et bunu!\n",
    "f = open(r 'C:\\Users\\Melisa BUYUKKOPRU\\Desktop\\hello.txt', \"w\")\n",
    "my_list = [\"Hatice\", \"Edanur\", \"Nihan\", \"Zeynep\", \"Menekşe\"]\n",
    "\n",
    "for i in my_list:\n",
    "    f.write(i+ \"\\n\")\n",
    "f.close()"
   ]
  },
  {
   "cell_type": "code",
   "execution_count": null,
   "metadata": {},
   "outputs": [],
   "source": [
    "nihal = open(\"greetings.txt\", \"w\")\n",
    "nihal.write(\"Hello\")\n",
    "nihal.close()\n",
    "\n",
    "\n",
    "\n",
    "with open(\"greetings.txt\", \"w\") as nihal:\n",
    "    nihal.write(\"Hellooooo\")"
   ]
  },
  {
   "cell_type": "code",
   "execution_count": null,
   "metadata": {},
   "outputs": [],
   "source": [
    "#aynı dizinde\n",
    "with open(\"7-Dosya_Ornegi/dosya2/names2.txt\", \"w\") as f:\n",
    "    f.write(\"Müzeyyen\")"
   ]
  },
  {
   "cell_type": "code",
   "execution_count": null,
   "metadata": {},
   "outputs": [],
   "source": [
    "#Belirli aralıklarla çalışan bir kodun, her seferinde o anın \n",
    "#tarih ve saat bilgilerini alarak bir dosya oluşturduğunu varsayalım\n",
    "\n",
    "from datetime import datetime\n",
    "time = datetime.now()\n",
    "print(\"Now: \", time)\n",
    "\n",
    "# gün ay yıl \n",
    "print(\"Gün ay yıl: \", time.strftime(\"%d-%m-%Y\"))\n",
    "file_name = time.strftime(\"%d-%m-%Y.txt\")\n",
    "with open(file_name, \"w\") as f:\n",
    "    f.write(\"gün ay yıl \" + file_name)\n",
    "\n",
    "#gün ay yıl saat dakika\n",
    "print(\"Gün ay yıl saat \", time.strftime(\"%d-%m-%Y %H:%M:%S\"))\n",
    "file_name2 = time.strftime(\"%d-%m-%Y-%H-%M-%S.txt\")\n",
    "with open(file_name2, \"w\") as f:\n",
    "    f.write(\"gün ay yıl saat \" + time.strftime(\"%d-%m-%Y %H:%M:%S\"))\n",
    "\n",
    "#farklı dizinde dosyayı oluşturma\n",
    "print(\"Farklı dizinde gün ay yıl saat \" + time.strftime(\"%d-%m-%Y %H:%M:%S\"))\n",
    "file_name3 = time.strftime(\"%d-%m-%Y-%H-%M-%S.txt\")\n",
    "with open(\"7-Dosya_Ornegi/dosya2/\" + file_name3, \"w\") as f:\n",
    "    f.write(\"Farklı dizinde gün ay yıl saat \" + time.strftime(\"%d-%m-%Y %H:%M:%S\"))"
   ]
  },
  {
   "cell_type": "markdown",
   "metadata": {},
   "source": [
    "Dosya okuma"
   ]
  },
  {
   "cell_type": "code",
   "execution_count": null,
   "metadata": {},
   "outputs": [],
   "source": [
    "with open(\"names2.txt\", \"r\") as f:\n",
    "    print(f.read())"
   ]
  },
  {
   "cell_type": "code",
   "execution_count": null,
   "metadata": {},
   "outputs": [],
   "source": [
    "#var olmayan bir dosyayı okumaya çalıştığımızda hata alırız.\n",
    "with open(\"surname.txt\", \"r\") as f:\n",
    "    print(f.read())"
   ]
  },
  {
   "cell_type": "code",
   "execution_count": null,
   "metadata": {},
   "outputs": [],
   "source": [
    "#okuma işlemi öncesi dosya kontrolü\n",
    "import os\n",
    "\n",
    "if os.path.exists(\"surname.txt\"):\n",
    "    with open(\"surname.txt\", \"r\") as f:\n",
    "        print(f.read())\n",
    "else:\n",
    "    print(\"Dosya bulunamadı\")"
   ]
  },
  {
   "cell_type": "code",
   "execution_count": null,
   "metadata": {},
   "outputs": [],
   "source": [
    "#okuma işlemi öncesi dosya kontrolü\n",
    "import os\n",
    "\n",
    "def read_file():\n",
    "    with open(\"surname.txt\", \"r\") as f:\n",
    "        print(f.read())\n",
    "\n",
    "if os.path.exists(\"surname.txt\"):\n",
    "    read_file()\n",
    "else:\n",
    "    my_list = [\"Sude\", \"İrem\", \"Nihan\", \"Zeynep\", \"Menekşe\"]\n",
    "    with open(\"surname.txt\", \"w\") as f:\n",
    "        for name in my_list:\n",
    "            f.write(name + \"\\n\")\n",
    "    read_file()"
   ]
  },
  {
   "cell_type": "markdown",
   "metadata": {},
   "source": [
    "Dosya Okuma Yöntemleri\n",
    "\n",
    "readlines() -> Satır satır okuma işlemi yapar ve değerleri bir liste halinde okur"
   ]
  },
  {
   "cell_type": "code",
   "execution_count": null,
   "metadata": {},
   "outputs": [],
   "source": [
    "with open(\"surname.txt\", \"r\") as f:\n",
    "    lines = f.readlines()\n",
    "    for i in lines:\n",
    "        print(i)"
   ]
  },
  {
   "cell_type": "code",
   "execution_count": null,
   "metadata": {},
   "outputs": [],
   "source": [
    "#okuma modunda açılan bir dosyaya ekleme yapmak istersek hata alırız\n",
    "with open(\"surname.txt\", \"r\") as f:\n",
    "    f.write(\"Şule\")\n"
   ]
  },
  {
   "cell_type": "code",
   "execution_count": null,
   "metadata": {},
   "outputs": [],
   "source": [
    "with open(\"surname.txt\", \"r+\") as f:\n",
    "    print(f.read())\n",
    "    f.write(\"Şule\\n\")"
   ]
  },
  {
   "cell_type": "code",
   "execution_count": null,
   "metadata": {},
   "outputs": [],
   "source": [
    "with open(\"surname.txt\", \"r\") as f:\n",
    "    lines = f.readlines()\n",
    "    for i in lines:\n",
    "        print(i)"
   ]
  },
  {
   "cell_type": "code",
   "execution_count": null,
   "metadata": {},
   "outputs": [],
   "source": [
    "with open(\"surname.txt\", \"r\") as f:\n",
    "    lines = f.readlines()\n",
    "    for i in reversed(lines):\n",
    "        print(i)"
   ]
  },
  {
   "cell_type": "markdown",
   "metadata": {},
   "source": [
    "Dosya Yazma\n",
    "\n",
    "w\n",
    "w+\n",
    "a\n",
    "a+\n",
    "Dosya yazma yöntemleri\n",
    "\n",
    "write()\n",
    "writelines()"
   ]
  },
  {
   "cell_type": "code",
   "execution_count": null,
   "metadata": {},
   "outputs": [],
   "source": [
    "with open(\"names.txt\", \"w\") as f:\n",
    "    f.write(\"Merve\")"
   ]
  },
  {
   "cell_type": "code",
   "execution_count": null,
   "metadata": {},
   "outputs": [],
   "source": [
    "with open(\"names.txt\", \"w\") as f:\n",
    "    f.writelines([\"Başak\", \"\\nDilara\", \"\\nÇevik\"])"
   ]
  },
  {
   "cell_type": "markdown",
   "metadata": {},
   "source": [
    "Dosya Arama\n",
    "\n",
    "* file.seek(imlec_konumu) -> imlecin nereden başlanacağı bilgisi\n",
    "\n",
    "* file.seek(8)\n",
    "* file.seek(0,2)\n",
    "* file.seek(4,1)\n",
    "* file.seek(-4,1)\n",
    "* file.seek(-4,2)"
   ]
  },
  {
   "cell_type": "code",
   "execution_count": null,
   "metadata": {},
   "outputs": [],
   "source": [
    "with open(\"surname.txt\", \"r\") as f:\n",
    "    f.seek(2)\n",
    "    print(f.read())"
   ]
  },
  {
   "cell_type": "code",
   "execution_count": null,
   "metadata": {},
   "outputs": [],
   "source": [
    "with open(\"surname.txt\", \"rb\") as f:\n",
    "    f.seek(-5, 2)\n",
    "    print(f.read().decode(\"utf-8\"))"
   ]
  },
  {
   "cell_type": "markdown",
   "metadata": {},
   "source": [
    "Dosya yeniden adlandırma"
   ]
  },
  {
   "cell_type": "code",
   "execution_count": null,
   "metadata": {},
   "outputs": [],
   "source": [
    "import os\n",
    "\n",
    "os.rename(\"names2.txt\", \"name_list.txt\")\n",
    "#Var olmayan bir dosyanın ismini değiştirmek istediğimizde hata alırız."
   ]
  },
  {
   "cell_type": "markdown",
   "metadata": {},
   "source": [
    "Dosya Silme"
   ]
  },
  {
   "cell_type": "code",
   "execution_count": null,
   "metadata": {},
   "outputs": [],
   "source": [
    "import os\n",
    "\n",
    "os.remove(\"name_list.txt\")\n",
    "#Var olmayan bir dosyayı silmeye çalışırsak hata alırız."
   ]
  }
 ],
 "metadata": {
  "kernelspec": {
   "display_name": "Python 3.10.5 64-bit",
   "language": "python",
   "name": "python3"
  },
  "language_info": {
   "codemirror_mode": {
    "name": "ipython",
    "version": 3
   },
   "file_extension": ".py",
   "mimetype": "text/x-python",
   "name": "python",
   "nbconvert_exporter": "python",
   "pygments_lexer": "ipython3",
   "version": "3.10.5"
  },
  "orig_nbformat": 4,
  "vscode": {
   "interpreter": {
    "hash": "62152218f5ae77fab72cd74f672204b070f3d26a6c6ea88577bcd7d0571ecb6a"
   }
  }
 },
 "nbformat": 4,
 "nbformat_minor": 2
}
