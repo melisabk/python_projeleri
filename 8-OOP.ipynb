{
 "cells": [
  {
   "cell_type": "markdown",
   "metadata": {},
   "source": [
    "Nesne Tabanlı Programlama\n"
   ]
  },
  {
   "cell_type": "markdown",
   "metadata": {},
   "source": [
    "Bir sınıf tanımlaması yapmak için;\n",
    "\n",
    "* class sinif_adi():\n",
    "    body\n",
    "\n",
    "\n",
    "* class sinif_adi:\n",
    "    body"
   ]
  },
  {
   "cell_type": "markdown",
   "metadata": {},
   "source": [
    "* class(sınıf)\n",
    "* object(nesne)\n",
    "* attributes(özellik)\n",
    "* metod"
   ]
  },
  {
   "cell_type": "code",
   "execution_count": 1,
   "metadata": {},
   "outputs": [],
   "source": [
    "class Araba:\n",
    "    plaka = \"\"\n",
    "    vites_tipi = \"\"\n",
    "    marka = \"\"\n",
    "    renk= \"\"\n",
    "    "
   ]
  },
  {
   "cell_type": "code",
   "execution_count": 3,
   "metadata": {},
   "outputs": [],
   "source": [
    "audi = Araba()\n",
    "audi.marka =\"Audi\"\n",
    "audi.plaka = \"01 PYHTON 34\"\n",
    "audi.renk = \"Beyaz\"\n",
    "audi.vites_tipi = \"manuel\""
   ]
  },
  {
   "cell_type": "code",
   "execution_count": 4,
   "metadata": {},
   "outputs": [
    {
     "name": "stdout",
     "output_type": "stream",
     "text": [
      "01 PYHTON 34\n"
     ]
    }
   ],
   "source": [
    "print(audi.plaka)"
   ]
  },
  {
   "cell_type": "code",
   "execution_count": 5,
   "metadata": {},
   "outputs": [],
   "source": [
    "bmw = Araba()\n",
    "bmw.marka =\"BMW\"\n",
    "bmw.plaka = \"65 ML 35\"\n",
    "bmw.renk = \"SİYAH\"\n",
    "bmw.vites_tipi = \"otomatik\""
   ]
  },
  {
   "cell_type": "code",
   "execution_count": 6,
   "metadata": {},
   "outputs": [
    {
     "data": {
      "text/plain": [
       "'otomatik'"
      ]
     },
     "execution_count": 6,
     "metadata": {},
     "output_type": "execute_result"
    }
   ],
   "source": [
    "bmw.vites_tipi"
   ]
  },
  {
   "cell_type": "code",
   "execution_count": 7,
   "metadata": {},
   "outputs": [
    {
     "name": "stdout",
     "output_type": "stream",
     "text": [
      "<class '__main__.Araba'>\n"
     ]
    }
   ],
   "source": [
    "print(type(bmw))"
   ]
  },
  {
   "cell_type": "code",
   "execution_count": 8,
   "metadata": {},
   "outputs": [],
   "source": [
    "class Araba:\n",
    "    plaka = \"\"\n",
    "    vites_tipi = \"\"\n",
    "    marka = \"\"\n",
    "    renk= \"\"\n",
    "    km = 0\n",
    "\n",
    "    def km_arttir(self):\n",
    "        self.km += 100\n",
    "        return self.km"
   ]
  },
  {
   "cell_type": "code",
   "execution_count": 9,
   "metadata": {},
   "outputs": [
    {
     "data": {
      "text/plain": [
       "100"
      ]
     },
     "execution_count": 9,
     "metadata": {},
     "output_type": "execute_result"
    }
   ],
   "source": [
    "bmw = Araba()\n",
    "bmw.km_arttir()"
   ]
  },
  {
   "cell_type": "markdown",
   "metadata": {},
   "source": [
    "* get değeri okuyabilmek için yazılıyor.\n",
    "* set de yeni değer atama"
   ]
  },
  {
   "cell_type": "code",
   "execution_count": null,
   "metadata": {},
   "outputs": [],
   "source": []
  }
 ],
 "metadata": {
  "kernelspec": {
   "display_name": "Python 3.10.5 64-bit",
   "language": "python",
   "name": "python3"
  },
  "language_info": {
   "codemirror_mode": {
    "name": "ipython",
    "version": 3
   },
   "file_extension": ".py",
   "mimetype": "text/x-python",
   "name": "python",
   "nbconvert_exporter": "python",
   "pygments_lexer": "ipython3",
   "version": "3.10.5"
  },
  "orig_nbformat": 4,
  "vscode": {
   "interpreter": {
    "hash": "62152218f5ae77fab72cd74f672204b070f3d26a6c6ea88577bcd7d0571ecb6a"
   }
  }
 },
 "nbformat": 4,
 "nbformat_minor": 2
}
